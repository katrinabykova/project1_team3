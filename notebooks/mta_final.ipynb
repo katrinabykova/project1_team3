{
 "cells": [
  {
   "cell_type": "markdown",
   "metadata": {},
   "source": [
    "## Download data"
   ]
  },
  {
   "cell_type": "code",
   "execution_count": 1,
   "metadata": {},
   "outputs": [],
   "source": [
    "import pandas as pd\n",
    "import matplotlib.pyplot as plt\n",
    "import seaborn as sns\n",
    "import numpy as np"
   ]
  },
  {
   "cell_type": "code",
   "execution_count": 2,
   "metadata": {},
   "outputs": [],
   "source": [
    "# Urls with selected MTA data (March, April and May 2019)\n",
    "urls = [\n",
    "    'http://web.mta.info/developers/data/nyct/turnstile/turnstile_190504.txt',\n",
    "    'http://web.mta.info/developers/data/nyct/turnstile/turnstile_190511.txt',\n",
    "    'http://web.mta.info/developers/data/nyct/turnstile/turnstile_190518.txt',\n",
    "    'http://web.mta.info/developers/data/nyct/turnstile/turnstile_190525.txt',\n",
    "    'http://web.mta.info/developers/data/nyct/turnstile/turnstile_190406.txt',\n",
    "    'http://web.mta.info/developers/data/nyct/turnstile/turnstile_190413.txt',\n",
    "    'http://web.mta.info/developers/data/nyct/turnstile/turnstile_190420.txt',\n",
    "    'http://web.mta.info/developers/data/nyct/turnstile/turnstile_190427.txt',\n",
    "    'http://web.mta.info/developers/data/nyct/turnstile/turnstile_190302.txt',\n",
    "    'http://web.mta.info/developers/data/nyct/turnstile/turnstile_190309.txt',\n",
    "    'http://web.mta.info/developers/data/nyct/turnstile/turnstile_190316.txt',\n",
    "    'http://web.mta.info/developers/data/nyct/turnstile/turnstile_190323.txt',\n",
    "    'http://web.mta.info/developers/data/nyct/turnstile/turnstile_190330.txt'\n",
    "]"
   ]
  },
  {
   "cell_type": "code",
   "execution_count": 3,
   "metadata": {},
   "outputs": [],
   "source": [
    "# Read csv files in a dataframe\n",
    "df_list = []\n",
    "for url in urls:\n",
    "    df_list.append(pd.read_csv(url))\n",
    "\n",
    "mta = pd.concat(df_list)"
   ]
  },
  {
   "cell_type": "markdown",
   "metadata": {},
   "source": [
    "## Data formating"
   ]
  },
  {
   "cell_type": "code",
   "execution_count": 4,
   "metadata": {},
   "outputs": [
    {
     "name": "stdout",
     "output_type": "stream",
     "text": [
      "<class 'pandas.core.frame.DataFrame'>\n",
      "Int64Index: 2653353 entries, 0 to 204594\n",
      "Data columns (total 11 columns):\n",
      "C/A                                                                     object\n",
      "UNIT                                                                    object\n",
      "SCP                                                                     object\n",
      "STATION                                                                 object\n",
      "LINENAME                                                                object\n",
      "DIVISION                                                                object\n",
      "DATE                                                                    object\n",
      "TIME                                                                    object\n",
      "DESC                                                                    object\n",
      "ENTRIES                                                                 int64\n",
      "EXITS                                                                   int64\n",
      "dtypes: int64(2), object(9)\n",
      "memory usage: 242.9+ MB\n"
     ]
    }
   ],
   "source": [
    "# Check data for missing or null values\n",
    "mta.info()"
   ]
  },
  {
   "cell_type": "code",
   "execution_count": 5,
   "metadata": {},
   "outputs": [
    {
     "data": {
      "text/plain": [
       "Index(['C/A', 'UNIT', 'SCP', 'STATION', 'LINENAME', 'DIVISION', 'DATE', 'TIME',\n",
       "       'DESC', 'ENTRIES',\n",
       "       'EXITS                                                               '],\n",
       "      dtype='object')"
      ]
     },
     "execution_count": 5,
     "metadata": {},
     "output_type": "execute_result"
    }
   ],
   "source": [
    "mta.columns"
   ]
  },
  {
   "cell_type": "code",
   "execution_count": 6,
   "metadata": {},
   "outputs": [],
   "source": [
    "# Rename columns\n",
    "mta.rename(columns={\n",
    "    'C/A':'c_a',\n",
    "    'UNIT':'unit',\n",
    "    'SCP':'scp',\n",
    "    'STATION':'station',\n",
    "    'LINENAME':'linename',\n",
    "    'DIVISION':'devision',\n",
    "    'DATE':'date',\n",
    "    'TIME':'time',\n",
    "    'DESC':'desc',\n",
    "    'ENTRIES':'entries',\n",
    "    'EXITS                                                               ':'exits'\n",
    "    }, inplace=True)"
   ]
  },
  {
   "cell_type": "code",
   "execution_count": 7,
   "metadata": {},
   "outputs": [
    {
     "data": {
      "text/html": [
       "<div>\n",
       "<style scoped>\n",
       "    .dataframe tbody tr th:only-of-type {\n",
       "        vertical-align: middle;\n",
       "    }\n",
       "\n",
       "    .dataframe tbody tr th {\n",
       "        vertical-align: top;\n",
       "    }\n",
       "\n",
       "    .dataframe thead th {\n",
       "        text-align: right;\n",
       "    }\n",
       "</style>\n",
       "<table border=\"1\" class=\"dataframe\">\n",
       "  <thead>\n",
       "    <tr style=\"text-align: right;\">\n",
       "      <th></th>\n",
       "      <th>entries</th>\n",
       "      <th>exits</th>\n",
       "    </tr>\n",
       "  </thead>\n",
       "  <tbody>\n",
       "    <tr>\n",
       "      <td>count</td>\n",
       "      <td>2.653353e+06</td>\n",
       "      <td>2.653353e+06</td>\n",
       "    </tr>\n",
       "    <tr>\n",
       "      <td>mean</td>\n",
       "      <td>4.098466e+07</td>\n",
       "      <td>3.366256e+07</td>\n",
       "    </tr>\n",
       "    <tr>\n",
       "      <td>std</td>\n",
       "      <td>2.101076e+08</td>\n",
       "      <td>1.943702e+08</td>\n",
       "    </tr>\n",
       "    <tr>\n",
       "      <td>min</td>\n",
       "      <td>0.000000e+00</td>\n",
       "      <td>0.000000e+00</td>\n",
       "    </tr>\n",
       "    <tr>\n",
       "      <td>25%</td>\n",
       "      <td>3.680650e+05</td>\n",
       "      <td>1.541680e+05</td>\n",
       "    </tr>\n",
       "    <tr>\n",
       "      <td>50%</td>\n",
       "      <td>2.245955e+06</td>\n",
       "      <td>1.292873e+06</td>\n",
       "    </tr>\n",
       "    <tr>\n",
       "      <td>75%</td>\n",
       "      <td>6.785287e+06</td>\n",
       "      <td>4.638681e+06</td>\n",
       "    </tr>\n",
       "    <tr>\n",
       "      <td>max</td>\n",
       "      <td>2.129459e+09</td>\n",
       "      <td>2.124283e+09</td>\n",
       "    </tr>\n",
       "  </tbody>\n",
       "</table>\n",
       "</div>"
      ],
      "text/plain": [
       "            entries         exits\n",
       "count  2.653353e+06  2.653353e+06\n",
       "mean   4.098466e+07  3.366256e+07\n",
       "std    2.101076e+08  1.943702e+08\n",
       "min    0.000000e+00  0.000000e+00\n",
       "25%    3.680650e+05  1.541680e+05\n",
       "50%    2.245955e+06  1.292873e+06\n",
       "75%    6.785287e+06  4.638681e+06\n",
       "max    2.129459e+09  2.124283e+09"
      ]
     },
     "execution_count": 7,
     "metadata": {},
     "output_type": "execute_result"
    }
   ],
   "source": [
    "# Data statistics\n",
    "mta.describe()"
   ]
  },
  {
   "cell_type": "code",
   "execution_count": 8,
   "metadata": {},
   "outputs": [
    {
     "data": {
      "text/html": [
       "<div>\n",
       "<style scoped>\n",
       "    .dataframe tbody tr th:only-of-type {\n",
       "        vertical-align: middle;\n",
       "    }\n",
       "\n",
       "    .dataframe tbody tr th {\n",
       "        vertical-align: top;\n",
       "    }\n",
       "\n",
       "    .dataframe thead th {\n",
       "        text-align: right;\n",
       "    }\n",
       "</style>\n",
       "<table border=\"1\" class=\"dataframe\">\n",
       "  <thead>\n",
       "    <tr style=\"text-align: right;\">\n",
       "      <th></th>\n",
       "      <th>c_a</th>\n",
       "      <th>unit</th>\n",
       "      <th>scp</th>\n",
       "      <th>station</th>\n",
       "      <th>linename</th>\n",
       "      <th>devision</th>\n",
       "      <th>date</th>\n",
       "      <th>time</th>\n",
       "      <th>desc</th>\n",
       "      <th>entries</th>\n",
       "      <th>exits</th>\n",
       "      <th>turnstile_id</th>\n",
       "    </tr>\n",
       "  </thead>\n",
       "  <tbody>\n",
       "    <tr>\n",
       "      <td>0</td>\n",
       "      <td>A002</td>\n",
       "      <td>R051</td>\n",
       "      <td>02-00-00</td>\n",
       "      <td>59 ST</td>\n",
       "      <td>NQR456W</td>\n",
       "      <td>BMT</td>\n",
       "      <td>04/27/2019</td>\n",
       "      <td>00:00:00</td>\n",
       "      <td>REGULAR</td>\n",
       "      <td>7035249</td>\n",
       "      <td>2384833</td>\n",
       "      <td>A002, R051, 02-00-00, 59 ST</td>\n",
       "    </tr>\n",
       "    <tr>\n",
       "      <td>1</td>\n",
       "      <td>A002</td>\n",
       "      <td>R051</td>\n",
       "      <td>02-00-00</td>\n",
       "      <td>59 ST</td>\n",
       "      <td>NQR456W</td>\n",
       "      <td>BMT</td>\n",
       "      <td>04/27/2019</td>\n",
       "      <td>04:00:00</td>\n",
       "      <td>REGULAR</td>\n",
       "      <td>7035269</td>\n",
       "      <td>2384840</td>\n",
       "      <td>A002, R051, 02-00-00, 59 ST</td>\n",
       "    </tr>\n",
       "    <tr>\n",
       "      <td>2</td>\n",
       "      <td>A002</td>\n",
       "      <td>R051</td>\n",
       "      <td>02-00-00</td>\n",
       "      <td>59 ST</td>\n",
       "      <td>NQR456W</td>\n",
       "      <td>BMT</td>\n",
       "      <td>04/27/2019</td>\n",
       "      <td>08:00:00</td>\n",
       "      <td>REGULAR</td>\n",
       "      <td>7035292</td>\n",
       "      <td>2384875</td>\n",
       "      <td>A002, R051, 02-00-00, 59 ST</td>\n",
       "    </tr>\n",
       "    <tr>\n",
       "      <td>3</td>\n",
       "      <td>A002</td>\n",
       "      <td>R051</td>\n",
       "      <td>02-00-00</td>\n",
       "      <td>59 ST</td>\n",
       "      <td>NQR456W</td>\n",
       "      <td>BMT</td>\n",
       "      <td>04/27/2019</td>\n",
       "      <td>12:00:00</td>\n",
       "      <td>REGULAR</td>\n",
       "      <td>7035392</td>\n",
       "      <td>2384951</td>\n",
       "      <td>A002, R051, 02-00-00, 59 ST</td>\n",
       "    </tr>\n",
       "    <tr>\n",
       "      <td>4</td>\n",
       "      <td>A002</td>\n",
       "      <td>R051</td>\n",
       "      <td>02-00-00</td>\n",
       "      <td>59 ST</td>\n",
       "      <td>NQR456W</td>\n",
       "      <td>BMT</td>\n",
       "      <td>04/27/2019</td>\n",
       "      <td>16:00:00</td>\n",
       "      <td>REGULAR</td>\n",
       "      <td>7035651</td>\n",
       "      <td>2385020</td>\n",
       "      <td>A002, R051, 02-00-00, 59 ST</td>\n",
       "    </tr>\n",
       "  </tbody>\n",
       "</table>\n",
       "</div>"
      ],
      "text/plain": [
       "    c_a  unit       scp station linename devision        date      time  \\\n",
       "0  A002  R051  02-00-00   59 ST  NQR456W      BMT  04/27/2019  00:00:00   \n",
       "1  A002  R051  02-00-00   59 ST  NQR456W      BMT  04/27/2019  04:00:00   \n",
       "2  A002  R051  02-00-00   59 ST  NQR456W      BMT  04/27/2019  08:00:00   \n",
       "3  A002  R051  02-00-00   59 ST  NQR456W      BMT  04/27/2019  12:00:00   \n",
       "4  A002  R051  02-00-00   59 ST  NQR456W      BMT  04/27/2019  16:00:00   \n",
       "\n",
       "      desc  entries    exits                 turnstile_id  \n",
       "0  REGULAR  7035249  2384833  A002, R051, 02-00-00, 59 ST  \n",
       "1  REGULAR  7035269  2384840  A002, R051, 02-00-00, 59 ST  \n",
       "2  REGULAR  7035292  2384875  A002, R051, 02-00-00, 59 ST  \n",
       "3  REGULAR  7035392  2384951  A002, R051, 02-00-00, 59 ST  \n",
       "4  REGULAR  7035651  2385020  A002, R051, 02-00-00, 59 ST  "
      ]
     },
     "execution_count": 8,
     "metadata": {},
     "output_type": "execute_result"
    }
   ],
   "source": [
    "#Make a column with a unique ID for each turnstile\n",
    "mta['turnstile_id'] = mta['c_a'] + ', ' + mta['unit'] + ', '+ mta['scp'] + ', ' + mta['station']\n",
    "mta.head()"
   ]
  },
  {
   "cell_type": "code",
   "execution_count": 9,
   "metadata": {},
   "outputs": [
    {
     "data": {
      "image/png": "[encoded data removed]",
      "text/plain": [
       "<Figure size 432x288 with 1 Axes>"
      ]
     },
     "metadata": {
      "needs_background": "light"
     },
     "output_type": "display_data"
    }
   ],
   "source": [
    "#Some turnstiles lack data. A few have more data points than expected.\n",
    "plt.boxplot(mta.turnstile_id.value_counts()) \n",
    "plt.xlabel('All turnstile', fontsize=10)\n",
    "plt.ylabel('Number of data points per turnstile', fontsize=10)\n",
    "plt.savefig('tunstile_missing_data.svg')"
   ]
  },
  {
   "cell_type": "code",
   "execution_count": 10,
   "metadata": {},
   "outputs": [
    {
     "data": {
      "text/html": [
       "<div>\n",
       "<style scoped>\n",
       "    .dataframe tbody tr th:only-of-type {\n",
       "        vertical-align: middle;\n",
       "    }\n",
       "\n",
       "    .dataframe tbody tr th {\n",
       "        vertical-align: top;\n",
       "    }\n",
       "\n",
       "    .dataframe thead th {\n",
       "        text-align: right;\n",
       "    }\n",
       "</style>\n",
       "<table border=\"1\" class=\"dataframe\">\n",
       "  <thead>\n",
       "    <tr style=\"text-align: right;\">\n",
       "      <th></th>\n",
       "      <th>c_a</th>\n",
       "      <th>unit</th>\n",
       "      <th>scp</th>\n",
       "      <th>station</th>\n",
       "      <th>linename</th>\n",
       "      <th>devision</th>\n",
       "      <th>date</th>\n",
       "      <th>time</th>\n",
       "      <th>desc</th>\n",
       "      <th>entries</th>\n",
       "      <th>exits</th>\n",
       "      <th>turnstile_id</th>\n",
       "      <th>Datetime</th>\n",
       "      <th>Date</th>\n",
       "    </tr>\n",
       "  </thead>\n",
       "  <tbody>\n",
       "    <tr>\n",
       "      <td>0</td>\n",
       "      <td>A002</td>\n",
       "      <td>R051</td>\n",
       "      <td>02-00-00</td>\n",
       "      <td>59 ST</td>\n",
       "      <td>NQR456W</td>\n",
       "      <td>BMT</td>\n",
       "      <td>04/27/2019</td>\n",
       "      <td>00:00:00</td>\n",
       "      <td>REGULAR</td>\n",
       "      <td>7035249</td>\n",
       "      <td>2384833</td>\n",
       "      <td>A002, R051, 02-00-00, 59 ST</td>\n",
       "      <td>2019-04-27 00:00:00</td>\n",
       "      <td>2019-04-27</td>\n",
       "    </tr>\n",
       "    <tr>\n",
       "      <td>1</td>\n",
       "      <td>A002</td>\n",
       "      <td>R051</td>\n",
       "      <td>02-00-00</td>\n",
       "      <td>59 ST</td>\n",
       "      <td>NQR456W</td>\n",
       "      <td>BMT</td>\n",
       "      <td>04/27/2019</td>\n",
       "      <td>04:00:00</td>\n",
       "      <td>REGULAR</td>\n",
       "      <td>7035269</td>\n",
       "      <td>2384840</td>\n",
       "      <td>A002, R051, 02-00-00, 59 ST</td>\n",
       "      <td>2019-04-27 04:00:00</td>\n",
       "      <td>2019-04-27</td>\n",
       "    </tr>\n",
       "    <tr>\n",
       "      <td>2</td>\n",
       "      <td>A002</td>\n",
       "      <td>R051</td>\n",
       "      <td>02-00-00</td>\n",
       "      <td>59 ST</td>\n",
       "      <td>NQR456W</td>\n",
       "      <td>BMT</td>\n",
       "      <td>04/27/2019</td>\n",
       "      <td>08:00:00</td>\n",
       "      <td>REGULAR</td>\n",
       "      <td>7035292</td>\n",
       "      <td>2384875</td>\n",
       "      <td>A002, R051, 02-00-00, 59 ST</td>\n",
       "      <td>2019-04-27 08:00:00</td>\n",
       "      <td>2019-04-27</td>\n",
       "    </tr>\n",
       "    <tr>\n",
       "      <td>3</td>\n",
       "      <td>A002</td>\n",
       "      <td>R051</td>\n",
       "      <td>02-00-00</td>\n",
       "      <td>59 ST</td>\n",
       "      <td>NQR456W</td>\n",
       "      <td>BMT</td>\n",
       "      <td>04/27/2019</td>\n",
       "      <td>12:00:00</td>\n",
       "      <td>REGULAR</td>\n",
       "      <td>7035392</td>\n",
       "      <td>2384951</td>\n",
       "      <td>A002, R051, 02-00-00, 59 ST</td>\n",
       "      <td>2019-04-27 12:00:00</td>\n",
       "      <td>2019-04-27</td>\n",
       "    </tr>\n",
       "    <tr>\n",
       "      <td>4</td>\n",
       "      <td>A002</td>\n",
       "      <td>R051</td>\n",
       "      <td>02-00-00</td>\n",
       "      <td>59 ST</td>\n",
       "      <td>NQR456W</td>\n",
       "      <td>BMT</td>\n",
       "      <td>04/27/2019</td>\n",
       "      <td>16:00:00</td>\n",
       "      <td>REGULAR</td>\n",
       "      <td>7035651</td>\n",
       "      <td>2385020</td>\n",
       "      <td>A002, R051, 02-00-00, 59 ST</td>\n",
       "      <td>2019-04-27 16:00:00</td>\n",
       "      <td>2019-04-27</td>\n",
       "    </tr>\n",
       "  </tbody>\n",
       "</table>\n",
       "</div>"
      ],
      "text/plain": [
       "    c_a  unit       scp station linename devision        date      time  \\\n",
       "0  A002  R051  02-00-00   59 ST  NQR456W      BMT  04/27/2019  00:00:00   \n",
       "1  A002  R051  02-00-00   59 ST  NQR456W      BMT  04/27/2019  04:00:00   \n",
       "2  A002  R051  02-00-00   59 ST  NQR456W      BMT  04/27/2019  08:00:00   \n",
       "3  A002  R051  02-00-00   59 ST  NQR456W      BMT  04/27/2019  12:00:00   \n",
       "4  A002  R051  02-00-00   59 ST  NQR456W      BMT  04/27/2019  16:00:00   \n",
       "\n",
       "      desc  entries    exits                 turnstile_id            Datetime  \\\n",
       "0  REGULAR  7035249  2384833  A002, R051, 02-00-00, 59 ST 2019-04-27 00:00:00   \n",
       "1  REGULAR  7035269  2384840  A002, R051, 02-00-00, 59 ST 2019-04-27 04:00:00   \n",
       "2  REGULAR  7035292  2384875  A002, R051, 02-00-00, 59 ST 2019-04-27 08:00:00   \n",
       "3  REGULAR  7035392  2384951  A002, R051, 02-00-00, 59 ST 2019-04-27 12:00:00   \n",
       "4  REGULAR  7035651  2385020  A002, R051, 02-00-00, 59 ST 2019-04-27 16:00:00   \n",
       "\n",
       "        Date  \n",
       "0 2019-04-27  \n",
       "1 2019-04-27  \n",
       "2 2019-04-27  \n",
       "3 2019-04-27  \n",
       "4 2019-04-27  "
      ]
     },
     "execution_count": 10,
     "metadata": {},
     "output_type": "execute_result"
    }
   ],
   "source": [
    "# Add datetime and date variables\n",
    "mta['Datetime'] = pd.to_datetime(mta['date'] + ' ' + mta['time'])\n",
    "mta['Date'] = pd.to_datetime(mta['date'])\n",
    "\n",
    "mta.head()"
   ]
  },
  {
   "cell_type": "code",
   "execution_count": 11,
   "metadata": {},
   "outputs": [
    {
     "data": {
      "text/plain": [
       "12:00:00    5829\n",
       "16:00:00    5818\n",
       "04:00:00    5818\n",
       "20:00:00    5816\n",
       "08:00:00    5786\n",
       "            ... \n",
       "12:44:10       4\n",
       "19:00:06       3\n",
       "08:35:18       3\n",
       "19:00:10       1\n",
       "19:00:12       1\n",
       "Name: time, Length: 210, dtype: int64"
      ]
     },
     "execution_count": 11,
     "metadata": {},
     "output_type": "execute_result"
    }
   ],
   "source": [
    "mta.loc[mta.station=='34 ST-PENN STA']['time'].value_counts()"
   ]
  },
  {
   "cell_type": "code",
   "execution_count": 12,
   "metadata": {},
   "outputs": [
    {
     "data": {
      "text/plain": [
       "4905"
      ]
     },
     "execution_count": 12,
     "metadata": {},
     "output_type": "execute_result"
    }
   ],
   "source": [
    "# Number of unique turnstiles\n",
    "len(mta.turnstile_id.unique())"
   ]
  },
  {
   "cell_type": "code",
   "execution_count": 13,
   "metadata": {},
   "outputs": [
    {
     "data": {
      "text/plain": [
       "379"
      ]
     },
     "execution_count": 13,
     "metadata": {},
     "output_type": "execute_result"
    }
   ],
   "source": [
    "# Number of staions\n",
    "len(mta.station.unique())"
   ]
  },
  {
   "cell_type": "code",
   "execution_count": 14,
   "metadata": {},
   "outputs": [
    {
     "data": {
      "text/plain": [
       "62826"
      ]
     },
     "execution_count": 14,
     "metadata": {},
     "output_type": "execute_result"
    }
   ],
   "source": [
    "# Number of unique time points per day\n",
    "len(mta.time.unique())"
   ]
  },
  {
   "cell_type": "code",
   "execution_count": 15,
   "metadata": {},
   "outputs": [
    {
     "data": {
      "text/html": [
       "<div>\n",
       "<style scoped>\n",
       "    .dataframe tbody tr th:only-of-type {\n",
       "        vertical-align: middle;\n",
       "    }\n",
       "\n",
       "    .dataframe tbody tr th {\n",
       "        vertical-align: top;\n",
       "    }\n",
       "\n",
       "    .dataframe thead th {\n",
       "        text-align: right;\n",
       "    }\n",
       "</style>\n",
       "<table border=\"1\" class=\"dataframe\">\n",
       "  <thead>\n",
       "    <tr style=\"text-align: right;\">\n",
       "      <th></th>\n",
       "      <th>c_a</th>\n",
       "      <th>unit</th>\n",
       "      <th>scp</th>\n",
       "      <th>station</th>\n",
       "      <th>linename</th>\n",
       "      <th>devision</th>\n",
       "      <th>date</th>\n",
       "      <th>time</th>\n",
       "      <th>desc</th>\n",
       "      <th>entries</th>\n",
       "      <th>exits</th>\n",
       "      <th>turnstile_id</th>\n",
       "      <th>Datetime</th>\n",
       "      <th>Date</th>\n",
       "    </tr>\n",
       "  </thead>\n",
       "  <tbody>\n",
       "    <tr>\n",
       "      <td>0</td>\n",
       "      <td>A002</td>\n",
       "      <td>R051</td>\n",
       "      <td>02-00-00</td>\n",
       "      <td>59 ST</td>\n",
       "      <td>NQR456W</td>\n",
       "      <td>BMT</td>\n",
       "      <td>04/27/2019</td>\n",
       "      <td>00:00:00</td>\n",
       "      <td>REGULAR</td>\n",
       "      <td>7035249</td>\n",
       "      <td>2384833</td>\n",
       "      <td>A002, R051, 02-00-00, 59 ST</td>\n",
       "      <td>2019-04-27 00:00:00</td>\n",
       "      <td>2019-04-27</td>\n",
       "    </tr>\n",
       "    <tr>\n",
       "      <td>1</td>\n",
       "      <td>A002</td>\n",
       "      <td>R051</td>\n",
       "      <td>02-00-00</td>\n",
       "      <td>59 ST</td>\n",
       "      <td>NQR456W</td>\n",
       "      <td>BMT</td>\n",
       "      <td>04/27/2019</td>\n",
       "      <td>04:00:00</td>\n",
       "      <td>REGULAR</td>\n",
       "      <td>7035269</td>\n",
       "      <td>2384840</td>\n",
       "      <td>A002, R051, 02-00-00, 59 ST</td>\n",
       "      <td>2019-04-27 04:00:00</td>\n",
       "      <td>2019-04-27</td>\n",
       "    </tr>\n",
       "    <tr>\n",
       "      <td>2</td>\n",
       "      <td>A002</td>\n",
       "      <td>R051</td>\n",
       "      <td>02-00-00</td>\n",
       "      <td>59 ST</td>\n",
       "      <td>NQR456W</td>\n",
       "      <td>BMT</td>\n",
       "      <td>04/27/2019</td>\n",
       "      <td>08:00:00</td>\n",
       "      <td>REGULAR</td>\n",
       "      <td>7035292</td>\n",
       "      <td>2384875</td>\n",
       "      <td>A002, R051, 02-00-00, 59 ST</td>\n",
       "      <td>2019-04-27 08:00:00</td>\n",
       "      <td>2019-04-27</td>\n",
       "    </tr>\n",
       "    <tr>\n",
       "      <td>3</td>\n",
       "      <td>A002</td>\n",
       "      <td>R051</td>\n",
       "      <td>02-00-00</td>\n",
       "      <td>59 ST</td>\n",
       "      <td>NQR456W</td>\n",
       "      <td>BMT</td>\n",
       "      <td>04/27/2019</td>\n",
       "      <td>12:00:00</td>\n",
       "      <td>REGULAR</td>\n",
       "      <td>7035392</td>\n",
       "      <td>2384951</td>\n",
       "      <td>A002, R051, 02-00-00, 59 ST</td>\n",
       "      <td>2019-04-27 12:00:00</td>\n",
       "      <td>2019-04-27</td>\n",
       "    </tr>\n",
       "    <tr>\n",
       "      <td>4</td>\n",
       "      <td>A002</td>\n",
       "      <td>R051</td>\n",
       "      <td>02-00-00</td>\n",
       "      <td>59 ST</td>\n",
       "      <td>NQR456W</td>\n",
       "      <td>BMT</td>\n",
       "      <td>04/27/2019</td>\n",
       "      <td>16:00:00</td>\n",
       "      <td>REGULAR</td>\n",
       "      <td>7035651</td>\n",
       "      <td>2385020</td>\n",
       "      <td>A002, R051, 02-00-00, 59 ST</td>\n",
       "      <td>2019-04-27 16:00:00</td>\n",
       "      <td>2019-04-27</td>\n",
       "    </tr>\n",
       "  </tbody>\n",
       "</table>\n",
       "</div>"
      ],
      "text/plain": [
       "    c_a  unit       scp station linename devision        date      time  \\\n",
       "0  A002  R051  02-00-00   59 ST  NQR456W      BMT  04/27/2019  00:00:00   \n",
       "1  A002  R051  02-00-00   59 ST  NQR456W      BMT  04/27/2019  04:00:00   \n",
       "2  A002  R051  02-00-00   59 ST  NQR456W      BMT  04/27/2019  08:00:00   \n",
       "3  A002  R051  02-00-00   59 ST  NQR456W      BMT  04/27/2019  12:00:00   \n",
       "4  A002  R051  02-00-00   59 ST  NQR456W      BMT  04/27/2019  16:00:00   \n",
       "\n",
       "      desc  entries    exits                 turnstile_id            Datetime  \\\n",
       "0  REGULAR  7035249  2384833  A002, R051, 02-00-00, 59 ST 2019-04-27 00:00:00   \n",
       "1  REGULAR  7035269  2384840  A002, R051, 02-00-00, 59 ST 2019-04-27 04:00:00   \n",
       "2  REGULAR  7035292  2384875  A002, R051, 02-00-00, 59 ST 2019-04-27 08:00:00   \n",
       "3  REGULAR  7035392  2384951  A002, R051, 02-00-00, 59 ST 2019-04-27 12:00:00   \n",
       "4  REGULAR  7035651  2385020  A002, R051, 02-00-00, 59 ST 2019-04-27 16:00:00   \n",
       "\n",
       "        Date  \n",
       "0 2019-04-27  \n",
       "1 2019-04-27  \n",
       "2 2019-04-27  \n",
       "3 2019-04-27  \n",
       "4 2019-04-27  "
      ]
     },
     "execution_count": 15,
     "metadata": {},
     "output_type": "execute_result"
    }
   ],
   "source": [
    "# Sort to make sure date is in order (probably do not need it)\n",
    "mta.sort_values(['turnstile_id', 'Date'])\n",
    "mta.head()"
   ]
  },
  {
   "cell_type": "code",
   "execution_count": 16,
   "metadata": {},
   "outputs": [],
   "source": [
    "# Get minimum reading for each turnstile per day\n",
    "mta_min = mta.groupby(['turnstile_id', 'Date'])['entries', 'exits', 'station'].min().reset_index()"
   ]
  },
  {
   "cell_type": "code",
   "execution_count": 17,
   "metadata": {},
   "outputs": [],
   "source": [
    "# Calculating entries and exits per day by subtracting min entries for given day from the next day. \n",
    "# Last day values are not calculated due to \"the lack of the next day value\".\n",
    "mta_daily = mta_min.copy()\n",
    "mta_daily['entries_daily'] = mta_daily.groupby(['turnstile_id'])['entries'].diff()\n",
    "mta_daily['exits_daily'] = mta_daily.groupby(['turnstile_id'])['exits'].diff()"
   ]
  },
  {
   "cell_type": "code",
   "execution_count": 18,
   "metadata": {},
   "outputs": [],
   "source": [
    "# Fixing the `entries_daily` and `exits_daily`. Shifting up one row\n",
    "mta_daily['entries_daily'] = mta_daily['entries_daily'].shift(-1)\n",
    "mta_daily['exits_daily'] = mta_daily['exits_daily'].shift(-1)"
   ]
  },
  {
   "cell_type": "code",
   "execution_count": 19,
   "metadata": {},
   "outputs": [
    {
     "data": {
      "text/plain": [
       "<matplotlib.axes._subplots.AxesSubplot at 0x1a1a0b3410>"
      ]
     },
     "execution_count": 19,
     "metadata": {},
     "output_type": "execute_result"
    },
    {
     "data": {
      "image/png": "[encoded data removed]",
      "text/plain": [
       "<Figure size 432x288 with 1 Axes>"
      ]
     },
     "metadata": {
      "needs_background": "light"
     },
     "output_type": "display_data"
    }
   ],
   "source": [
    "# Outliers in entries over time\n",
    "sns.boxplot(x='Date', y='entries_daily', data=mta_daily)"
   ]
  },
  {
   "cell_type": "code",
   "execution_count": 20,
   "metadata": {},
   "outputs": [
    {
     "data": {
      "text/plain": [
       "<matplotlib.axes._subplots.AxesSubplot at 0x1a1ab4c8d0>"
      ]
     },
     "execution_count": 20,
     "metadata": {},
     "output_type": "execute_result"
    },
    {
     "data": {
      "image/png": "[encoded data removed]",
      "text/plain": [
       "<Figure size 432x288 with 1 Axes>"
      ]
     },
     "metadata": {
      "needs_background": "light"
     },
     "output_type": "display_data"
    }
   ],
   "source": [
    "# Outliers in entries over time\n",
    "mta_daily.entries_daily.plot()"
   ]
  },
  {
   "cell_type": "code",
   "execution_count": 21,
   "metadata": {},
   "outputs": [
    {
     "data": {
      "text/plain": [
       "<matplotlib.axes._subplots.AxesSubplot at 0x1a1ab29c50>"
      ]
     },
     "execution_count": 21,
     "metadata": {},
     "output_type": "execute_result"
    },
    {
     "data": {
      "image/png": "[encoded data removed]",
      "text/plain": [
       "<Figure size 432x288 with 1 Axes>"
      ]
     },
     "metadata": {
      "needs_background": "light"
     },
     "output_type": "display_data"
    }
   ],
   "source": [
    "# Outliers in exits over time\n",
    "mta_daily.exits_daily.plot()"
   ]
  },
  {
   "cell_type": "code",
   "execution_count": 22,
   "metadata": {},
   "outputs": [
    {
     "data": {
      "text/plain": [
       "2088501681.0"
      ]
     },
     "execution_count": 22,
     "metadata": {},
     "output_type": "execute_result"
    }
   ],
   "source": [
    "# MTA daily number of passenger per station per day should not be more than ~200,000 (published info). \n",
    "# Note, we are looking at individual turnstiles, not stations yet - assume the daily max value to be below 20,000.\n",
    "mta_daily.entries_daily.max()"
   ]
  },
  {
   "cell_type": "code",
   "execution_count": 23,
   "metadata": {},
   "outputs": [
    {
     "data": {
      "text/plain": [
       "1684280440.0"
      ]
     },
     "execution_count": 23,
     "metadata": {},
     "output_type": "execute_result"
    }
   ],
   "source": [
    "mta_daily.exits_daily.max()"
   ]
  },
  {
   "cell_type": "code",
   "execution_count": 24,
   "metadata": {},
   "outputs": [
    {
     "data": {
      "text/html": [
       "<div>\n",
       "<style scoped>\n",
       "    .dataframe tbody tr th:only-of-type {\n",
       "        vertical-align: middle;\n",
       "    }\n",
       "\n",
       "    .dataframe tbody tr th {\n",
       "        vertical-align: top;\n",
       "    }\n",
       "\n",
       "    .dataframe thead th {\n",
       "        text-align: right;\n",
       "    }\n",
       "</style>\n",
       "<table border=\"1\" class=\"dataframe\">\n",
       "  <thead>\n",
       "    <tr style=\"text-align: right;\">\n",
       "      <th></th>\n",
       "      <th>turnstile_id</th>\n",
       "      <th>Date</th>\n",
       "      <th>entries</th>\n",
       "      <th>exits</th>\n",
       "      <th>station</th>\n",
       "      <th>entries_daily</th>\n",
       "      <th>exits_daily</th>\n",
       "    </tr>\n",
       "  </thead>\n",
       "  <tbody>\n",
       "    <tr>\n",
       "      <td>7501</td>\n",
       "      <td>A025, R023, 01-06-01, 34 ST-HERALD SQ</td>\n",
       "      <td>2019-03-05</td>\n",
       "      <td>5196016</td>\n",
       "      <td>8096883</td>\n",
       "      <td>34 ST-HERALD SQ</td>\n",
       "      <td>9.460806e+06</td>\n",
       "      <td>2.236480e+07</td>\n",
       "    </tr>\n",
       "    <tr>\n",
       "      <td>11053</td>\n",
       "      <td>A034, R170, 03-06-00, 14 ST-UNION SQ</td>\n",
       "      <td>2019-03-08</td>\n",
       "      <td>68073706</td>\n",
       "      <td>17234616</td>\n",
       "      <td>14 ST-UNION SQ</td>\n",
       "      <td>1.671340e+08</td>\n",
       "      <td>8.354263e+07</td>\n",
       "    </tr>\n",
       "    <tr>\n",
       "      <td>12651</td>\n",
       "      <td>A038, R085, 00-06-00, 8 ST-NYU</td>\n",
       "      <td>2019-04-28</td>\n",
       "      <td>299330</td>\n",
       "      <td>58</td>\n",
       "      <td>8 ST-NYU</td>\n",
       "      <td>1.640730e+05</td>\n",
       "      <td>1.210000e+02</td>\n",
       "    </tr>\n",
       "    <tr>\n",
       "      <td>53672</td>\n",
       "      <td>D002, R390, 00-03-01, 8 AV</td>\n",
       "      <td>2019-03-04</td>\n",
       "      <td>2378199</td>\n",
       "      <td>1797789</td>\n",
       "      <td>8 AV</td>\n",
       "      <td>2.435900e+04</td>\n",
       "      <td>6.604000e+03</td>\n",
       "    </tr>\n",
       "    <tr>\n",
       "      <td>54058</td>\n",
       "      <td>D004, R391, 01-06-01, FT HAMILTON PKY</td>\n",
       "      <td>2019-04-03</td>\n",
       "      <td>587727</td>\n",
       "      <td>102248</td>\n",
       "      <td>FT HAMILTON PKY</td>\n",
       "      <td>1.990420e+05</td>\n",
       "      <td>-1.022080e+05</td>\n",
       "    </tr>\n",
       "    <tr>\n",
       "      <td>...</td>\n",
       "      <td>...</td>\n",
       "      <td>...</td>\n",
       "      <td>...</td>\n",
       "      <td>...</td>\n",
       "      <td>...</td>\n",
       "      <td>...</td>\n",
       "      <td>...</td>\n",
       "    </tr>\n",
       "    <tr>\n",
       "      <td>379103</td>\n",
       "      <td>R405, R447, 01-00-01, CYPRESS AV</td>\n",
       "      <td>2019-04-20</td>\n",
       "      <td>740844</td>\n",
       "      <td>1030141</td>\n",
       "      <td>CYPRESS AV</td>\n",
       "      <td>1.838690e+08</td>\n",
       "      <td>2.506931e+08</td>\n",
       "    </tr>\n",
       "    <tr>\n",
       "      <td>397417</td>\n",
       "      <td>R519, R223, 00-00-00, 46 ST BLISS ST</td>\n",
       "      <td>2019-03-02</td>\n",
       "      <td>777282</td>\n",
       "      <td>1748946</td>\n",
       "      <td>46 ST BLISS ST</td>\n",
       "      <td>6.921300e+05</td>\n",
       "      <td>2.123490e+05</td>\n",
       "    </tr>\n",
       "    <tr>\n",
       "      <td>419081</td>\n",
       "      <td>R610, R057, 00-04-01, ATL AV-BARCLAY</td>\n",
       "      <td>2019-04-11</td>\n",
       "      <td>591919</td>\n",
       "      <td>1087</td>\n",
       "      <td>ATL AV-BARCLAY</td>\n",
       "      <td>1.709869e+06</td>\n",
       "      <td>2.708342e+06</td>\n",
       "    </tr>\n",
       "    <tr>\n",
       "      <td>435202</td>\n",
       "      <td>R729, R292, 00-00-02, BAYCHESTER AV</td>\n",
       "      <td>2019-05-16</td>\n",
       "      <td>8123310</td>\n",
       "      <td>690029</td>\n",
       "      <td>BAYCHESTER AV</td>\n",
       "      <td>2.055526e+09</td>\n",
       "      <td>1.671292e+08</td>\n",
       "    </tr>\n",
       "    <tr>\n",
       "      <td>437170</td>\n",
       "      <td>S101A, R070, 01-00-03, ST. GEORGE</td>\n",
       "      <td>2019-05-02</td>\n",
       "      <td>2501599</td>\n",
       "      <td>432</td>\n",
       "      <td>ST. GEORGE</td>\n",
       "      <td>1.126553e+09</td>\n",
       "      <td>1.078346e+09</td>\n",
       "    </tr>\n",
       "  </tbody>\n",
       "</table>\n",
       "<p>93 rows × 7 columns</p>\n",
       "</div>"
      ],
      "text/plain": [
       "                                 turnstile_id       Date   entries     exits  \\\n",
       "7501    A025, R023, 01-06-01, 34 ST-HERALD SQ 2019-03-05   5196016   8096883   \n",
       "11053    A034, R170, 03-06-00, 14 ST-UNION SQ 2019-03-08  68073706  17234616   \n",
       "12651          A038, R085, 00-06-00, 8 ST-NYU 2019-04-28    299330        58   \n",
       "53672              D002, R390, 00-03-01, 8 AV 2019-03-04   2378199   1797789   \n",
       "54058   D004, R391, 01-06-01, FT HAMILTON PKY 2019-04-03    587727    102248   \n",
       "...                                       ...        ...       ...       ...   \n",
       "379103       R405, R447, 01-00-01, CYPRESS AV 2019-04-20    740844   1030141   \n",
       "397417   R519, R223, 00-00-00, 46 ST BLISS ST 2019-03-02    777282   1748946   \n",
       "419081   R610, R057, 00-04-01, ATL AV-BARCLAY 2019-04-11    591919      1087   \n",
       "435202    R729, R292, 00-00-02, BAYCHESTER AV 2019-05-16   8123310    690029   \n",
       "437170      S101A, R070, 01-00-03, ST. GEORGE 2019-05-02   2501599       432   \n",
       "\n",
       "                station  entries_daily   exits_daily  \n",
       "7501    34 ST-HERALD SQ   9.460806e+06  2.236480e+07  \n",
       "11053    14 ST-UNION SQ   1.671340e+08  8.354263e+07  \n",
       "12651          8 ST-NYU   1.640730e+05  1.210000e+02  \n",
       "53672              8 AV   2.435900e+04  6.604000e+03  \n",
       "54058   FT HAMILTON PKY   1.990420e+05 -1.022080e+05  \n",
       "...                 ...            ...           ...  \n",
       "379103       CYPRESS AV   1.838690e+08  2.506931e+08  \n",
       "397417   46 ST BLISS ST   6.921300e+05  2.123490e+05  \n",
       "419081   ATL AV-BARCLAY   1.709869e+06  2.708342e+06  \n",
       "435202    BAYCHESTER AV   2.055526e+09  1.671292e+08  \n",
       "437170       ST. GEORGE   1.126553e+09  1.078346e+09  \n",
       "\n",
       "[93 rows x 7 columns]"
      ]
     },
     "execution_count": 24,
     "metadata": {},
     "output_type": "execute_result"
    }
   ],
   "source": [
    "# Entry values >= 20,000\n",
    "mta_daily.loc[mta_daily['entries_daily']>=20000]"
   ]
  },
  {
   "cell_type": "code",
   "execution_count": 25,
   "metadata": {},
   "outputs": [
    {
     "data": {
      "text/html": [
       "<div>\n",
       "<style scoped>\n",
       "    .dataframe tbody tr th:only-of-type {\n",
       "        vertical-align: middle;\n",
       "    }\n",
       "\n",
       "    .dataframe tbody tr th {\n",
       "        vertical-align: top;\n",
       "    }\n",
       "\n",
       "    .dataframe thead th {\n",
       "        text-align: right;\n",
       "    }\n",
       "</style>\n",
       "<table border=\"1\" class=\"dataframe\">\n",
       "  <thead>\n",
       "    <tr style=\"text-align: right;\">\n",
       "      <th></th>\n",
       "      <th>turnstile_id</th>\n",
       "      <th>Date</th>\n",
       "      <th>entries</th>\n",
       "      <th>exits</th>\n",
       "      <th>station</th>\n",
       "      <th>entries_daily</th>\n",
       "      <th>exits_daily</th>\n",
       "    </tr>\n",
       "  </thead>\n",
       "  <tbody>\n",
       "    <tr>\n",
       "      <td>7410</td>\n",
       "      <td>A025, R023, 01-06-00, 34 ST-HERALD SQ</td>\n",
       "      <td>2019-03-05</td>\n",
       "      <td>10754832</td>\n",
       "      <td>18233873</td>\n",
       "      <td>34 ST-HERALD SQ</td>\n",
       "      <td>2.578000e+03</td>\n",
       "      <td>8.834196e+06</td>\n",
       "    </tr>\n",
       "    <tr>\n",
       "      <td>7501</td>\n",
       "      <td>A025, R023, 01-06-01, 34 ST-HERALD SQ</td>\n",
       "      <td>2019-03-05</td>\n",
       "      <td>5196016</td>\n",
       "      <td>8096883</td>\n",
       "      <td>34 ST-HERALD SQ</td>\n",
       "      <td>9.460806e+06</td>\n",
       "      <td>2.236480e+07</td>\n",
       "    </tr>\n",
       "    <tr>\n",
       "      <td>11053</td>\n",
       "      <td>A034, R170, 03-06-00, 14 ST-UNION SQ</td>\n",
       "      <td>2019-03-08</td>\n",
       "      <td>68073706</td>\n",
       "      <td>17234616</td>\n",
       "      <td>14 ST-UNION SQ</td>\n",
       "      <td>1.671340e+08</td>\n",
       "      <td>8.354263e+07</td>\n",
       "    </tr>\n",
       "    <tr>\n",
       "      <td>26659</td>\n",
       "      <td>A081, R028, 04-00-03, FULTON ST</td>\n",
       "      <td>2019-04-26</td>\n",
       "      <td>748829</td>\n",
       "      <td>2321723</td>\n",
       "      <td>FULTON ST</td>\n",
       "      <td>7.700000e+01</td>\n",
       "      <td>2.202000e+04</td>\n",
       "    </tr>\n",
       "    <tr>\n",
       "      <td>86696</td>\n",
       "      <td>JFK03, R536, 00-00-04, JFK JAMAICA CT1</td>\n",
       "      <td>2019-05-11</td>\n",
       "      <td>9341</td>\n",
       "      <td>5171</td>\n",
       "      <td>JFK JAMAICA CT1</td>\n",
       "      <td>7.404800e+04</td>\n",
       "      <td>4.667400e+05</td>\n",
       "    </tr>\n",
       "    <tr>\n",
       "      <td>...</td>\n",
       "      <td>...</td>\n",
       "      <td>...</td>\n",
       "      <td>...</td>\n",
       "      <td>...</td>\n",
       "      <td>...</td>\n",
       "      <td>...</td>\n",
       "      <td>...</td>\n",
       "    </tr>\n",
       "    <tr>\n",
       "      <td>379103</td>\n",
       "      <td>R405, R447, 01-00-01, CYPRESS AV</td>\n",
       "      <td>2019-04-20</td>\n",
       "      <td>740844</td>\n",
       "      <td>1030141</td>\n",
       "      <td>CYPRESS AV</td>\n",
       "      <td>1.838690e+08</td>\n",
       "      <td>2.506931e+08</td>\n",
       "    </tr>\n",
       "    <tr>\n",
       "      <td>397417</td>\n",
       "      <td>R519, R223, 00-00-00, 46 ST BLISS ST</td>\n",
       "      <td>2019-03-02</td>\n",
       "      <td>777282</td>\n",
       "      <td>1748946</td>\n",
       "      <td>46 ST BLISS ST</td>\n",
       "      <td>6.921300e+05</td>\n",
       "      <td>2.123490e+05</td>\n",
       "    </tr>\n",
       "    <tr>\n",
       "      <td>419081</td>\n",
       "      <td>R610, R057, 00-04-01, ATL AV-BARCLAY</td>\n",
       "      <td>2019-04-11</td>\n",
       "      <td>591919</td>\n",
       "      <td>1087</td>\n",
       "      <td>ATL AV-BARCLAY</td>\n",
       "      <td>1.709869e+06</td>\n",
       "      <td>2.708342e+06</td>\n",
       "    </tr>\n",
       "    <tr>\n",
       "      <td>435202</td>\n",
       "      <td>R729, R292, 00-00-02, BAYCHESTER AV</td>\n",
       "      <td>2019-05-16</td>\n",
       "      <td>8123310</td>\n",
       "      <td>690029</td>\n",
       "      <td>BAYCHESTER AV</td>\n",
       "      <td>2.055526e+09</td>\n",
       "      <td>1.671292e+08</td>\n",
       "    </tr>\n",
       "    <tr>\n",
       "      <td>437170</td>\n",
       "      <td>S101A, R070, 01-00-03, ST. GEORGE</td>\n",
       "      <td>2019-05-02</td>\n",
       "      <td>2501599</td>\n",
       "      <td>432</td>\n",
       "      <td>ST. GEORGE</td>\n",
       "      <td>1.126553e+09</td>\n",
       "      <td>1.078346e+09</td>\n",
       "    </tr>\n",
       "  </tbody>\n",
       "</table>\n",
       "<p>81 rows × 7 columns</p>\n",
       "</div>"
      ],
      "text/plain": [
       "                                  turnstile_id       Date   entries     exits  \\\n",
       "7410     A025, R023, 01-06-00, 34 ST-HERALD SQ 2019-03-05  10754832  18233873   \n",
       "7501     A025, R023, 01-06-01, 34 ST-HERALD SQ 2019-03-05   5196016   8096883   \n",
       "11053     A034, R170, 03-06-00, 14 ST-UNION SQ 2019-03-08  68073706  17234616   \n",
       "26659          A081, R028, 04-00-03, FULTON ST 2019-04-26    748829   2321723   \n",
       "86696   JFK03, R536, 00-00-04, JFK JAMAICA CT1 2019-05-11      9341      5171   \n",
       "...                                        ...        ...       ...       ...   \n",
       "379103        R405, R447, 01-00-01, CYPRESS AV 2019-04-20    740844   1030141   \n",
       "397417    R519, R223, 00-00-00, 46 ST BLISS ST 2019-03-02    777282   1748946   \n",
       "419081    R610, R057, 00-04-01, ATL AV-BARCLAY 2019-04-11    591919      1087   \n",
       "435202     R729, R292, 00-00-02, BAYCHESTER AV 2019-05-16   8123310    690029   \n",
       "437170       S101A, R070, 01-00-03, ST. GEORGE 2019-05-02   2501599       432   \n",
       "\n",
       "                station  entries_daily   exits_daily  \n",
       "7410    34 ST-HERALD SQ   2.578000e+03  8.834196e+06  \n",
       "7501    34 ST-HERALD SQ   9.460806e+06  2.236480e+07  \n",
       "11053    14 ST-UNION SQ   1.671340e+08  8.354263e+07  \n",
       "26659         FULTON ST   7.700000e+01  2.202000e+04  \n",
       "86696   JFK JAMAICA CT1   7.404800e+04  4.667400e+05  \n",
       "...                 ...            ...           ...  \n",
       "379103       CYPRESS AV   1.838690e+08  2.506931e+08  \n",
       "397417   46 ST BLISS ST   6.921300e+05  2.123490e+05  \n",
       "419081   ATL AV-BARCLAY   1.709869e+06  2.708342e+06  \n",
       "435202    BAYCHESTER AV   2.055526e+09  1.671292e+08  \n",
       "437170       ST. GEORGE   1.126553e+09  1.078346e+09  \n",
       "\n",
       "[81 rows x 7 columns]"
      ]
     },
     "execution_count": 25,
     "metadata": {},
     "output_type": "execute_result"
    }
   ],
   "source": [
    "# Exit values >= 20,000\n",
    "mta_daily.loc[mta_daily['exits_daily']>=20000]"
   ]
  },
  {
   "cell_type": "code",
   "execution_count": 26,
   "metadata": {},
   "outputs": [
    {
     "data": {
      "text/plain": [
       "357"
      ]
     },
     "execution_count": 26,
     "metadata": {},
     "output_type": "execute_result"
    }
   ],
   "source": [
    "# Entry values < 0\n",
    "len(mta_daily.loc[mta_daily['entries_daily']<0].turnstile_id.unique())"
   ]
  },
  {
   "cell_type": "code",
   "execution_count": 27,
   "metadata": {},
   "outputs": [
    {
     "data": {
      "text/plain": [
       "359"
      ]
     },
     "execution_count": 27,
     "metadata": {},
     "output_type": "execute_result"
    }
   ],
   "source": [
    "# Exits values < 0\n",
    "len(mta_daily.loc[mta_daily['exits_daily']<0].turnstile_id.unique())"
   ]
  },
  {
   "cell_type": "code",
   "execution_count": 28,
   "metadata": {},
   "outputs": [
    {
     "data": {
      "text/plain": [
       "357"
      ]
     },
     "execution_count": 28,
     "metadata": {},
     "output_type": "execute_result"
    }
   ],
   "source": [
    "# Look at turnstiles that have negative daily entries \n",
    "neg_entries_ones=list(mta_daily.loc[mta_daily['entries_daily']<0].turnstile_id.unique())\n",
    "len(neg_entries_ones)"
   ]
  },
  {
   "cell_type": "code",
   "execution_count": 29,
   "metadata": {},
   "outputs": [
    {
     "data": {
      "text/html": [
       "<div>\n",
       "<style scoped>\n",
       "    .dataframe tbody tr th:only-of-type {\n",
       "        vertical-align: middle;\n",
       "    }\n",
       "\n",
       "    .dataframe tbody tr th {\n",
       "        vertical-align: top;\n",
       "    }\n",
       "\n",
       "    .dataframe thead th {\n",
       "        text-align: right;\n",
       "    }\n",
       "</style>\n",
       "<table border=\"1\" class=\"dataframe\">\n",
       "  <thead>\n",
       "    <tr style=\"text-align: right;\">\n",
       "      <th></th>\n",
       "      <th>turnstile_id</th>\n",
       "      <th>Datetime</th>\n",
       "      <th>entries</th>\n",
       "    </tr>\n",
       "    <tr>\n",
       "      <th>Datetime</th>\n",
       "      <th></th>\n",
       "      <th></th>\n",
       "      <th></th>\n",
       "    </tr>\n",
       "  </thead>\n",
       "  <tbody>\n",
       "    <tr>\n",
       "      <td>2019-04-27 00:00:00</td>\n",
       "      <td>A025, R023, 01-03-01, 34 ST-HERALD SQ</td>\n",
       "      <td>2019-04-27 00:00:00</td>\n",
       "      <td>1238470573</td>\n",
       "    </tr>\n",
       "    <tr>\n",
       "      <td>2019-04-27 04:00:00</td>\n",
       "      <td>A025, R023, 01-03-01, 34 ST-HERALD SQ</td>\n",
       "      <td>2019-04-27 04:00:00</td>\n",
       "      <td>1238470329</td>\n",
       "    </tr>\n",
       "    <tr>\n",
       "      <td>2019-04-27 08:00:00</td>\n",
       "      <td>A025, R023, 01-03-01, 34 ST-HERALD SQ</td>\n",
       "      <td>2019-04-27 08:00:00</td>\n",
       "      <td>1238470235</td>\n",
       "    </tr>\n",
       "    <tr>\n",
       "      <td>2019-04-27 12:00:00</td>\n",
       "      <td>A025, R023, 01-03-01, 34 ST-HERALD SQ</td>\n",
       "      <td>2019-04-27 12:00:00</td>\n",
       "      <td>1238469915</td>\n",
       "    </tr>\n",
       "    <tr>\n",
       "      <td>2019-04-27 16:00:00</td>\n",
       "      <td>A025, R023, 01-03-01, 34 ST-HERALD SQ</td>\n",
       "      <td>2019-04-27 16:00:00</td>\n",
       "      <td>1238469346</td>\n",
       "    </tr>\n",
       "  </tbody>\n",
       "</table>\n",
       "</div>"
      ],
      "text/plain": [
       "                                              turnstile_id  \\\n",
       "Datetime                                                     \n",
       "2019-04-27 00:00:00  A025, R023, 01-03-01, 34 ST-HERALD SQ   \n",
       "2019-04-27 04:00:00  A025, R023, 01-03-01, 34 ST-HERALD SQ   \n",
       "2019-04-27 08:00:00  A025, R023, 01-03-01, 34 ST-HERALD SQ   \n",
       "2019-04-27 12:00:00  A025, R023, 01-03-01, 34 ST-HERALD SQ   \n",
       "2019-04-27 16:00:00  A025, R023, 01-03-01, 34 ST-HERALD SQ   \n",
       "\n",
       "                               Datetime     entries  \n",
       "Datetime                                             \n",
       "2019-04-27 00:00:00 2019-04-27 00:00:00  1238470573  \n",
       "2019-04-27 04:00:00 2019-04-27 04:00:00  1238470329  \n",
       "2019-04-27 08:00:00 2019-04-27 08:00:00  1238470235  \n",
       "2019-04-27 12:00:00 2019-04-27 12:00:00  1238469915  \n",
       "2019-04-27 16:00:00 2019-04-27 16:00:00  1238469346  "
      ]
     },
     "execution_count": 29,
     "metadata": {},
     "output_type": "execute_result"
    }
   ],
   "source": [
    "neg_entries=mta[mta.turnstile_id.isin(neg_entries_ones)][['turnstile_id','Datetime','entries']]\n",
    "neg_entries.index= neg_entries.Datetime\n",
    "neg_entries.head()"
   ]
  },
  {
   "cell_type": "code",
   "execution_count": 30,
   "metadata": {},
   "outputs": [
    {
     "data": {
      "image/png": "[encoded data removed]",
      "text/plain": [
       "<Figure size 432x288 with 1 Axes>"
      ]
     },
     "metadata": {
      "needs_background": "light"
     },
     "output_type": "display_data"
    }
   ],
   "source": [
    "# Turnstile resets\n",
    "\n",
    "for i in range(len(neg_entries_ones)):\n",
    "    negs=neg_entries[neg_entries.turnstile_id==neg_entries_ones[i]]\n",
    "    negs.entries.plot()\n",
    "    plt.yscale('log')\n",
    "# negs.head()\n",
    "plt.xlabel('Date', fontsize=12)\n",
    "plt.ylabel('Individual Turnstile Entries', fontsize=12)\n",
    "plt.title('Turnstile Reset Points', fontsize=15)\n",
    "# plt.figure(figsize=())\n",
    "plt.savefig('Turnstile_reset.svg')"
   ]
  },
  {
   "cell_type": "code",
   "execution_count": 31,
   "metadata": {},
   "outputs": [],
   "source": [
    "# Remove the daily enatries and exits that do not make sence (> 20,000 and < 0)\n",
    "mta_daily_clean = mta_daily.copy()\n",
    "\n",
    "mta_daily_clean.loc[mta_daily_clean['entries_daily'] >= 20000,'entries_daily'] = np.nan\n",
    "mta_daily_clean.loc[mta_daily_clean['entries_daily'] < 0,'entries_daily'] = np.nan\n",
    "\n",
    "mta_daily_clean.loc[mta_daily_clean['exits_daily'] >= 20000,'exits_daily'] = np.nan\n",
    "mta_daily_clean.loc[mta_daily_clean['exits_daily'] < 0,'exits_daily'] = np.nan"
   ]
  },
  {
   "cell_type": "code",
   "execution_count": 32,
   "metadata": {},
   "outputs": [],
   "source": [
    "# Daily entries and exits by stations\n",
    "station_daily = mta_daily_clean.groupby(['station', 'Date'])['entries_daily', 'exits_daily'].sum().reset_index()\n",
    "station_daily['traffic'] = station_daily['entries_daily'] + station_daily['exits_daily']"
   ]
  },
  {
   "cell_type": "code",
   "execution_count": 33,
   "metadata": {},
   "outputs": [
    {
     "data": {
      "text/html": [
       "<div>\n",
       "<style scoped>\n",
       "    .dataframe tbody tr th:only-of-type {\n",
       "        vertical-align: middle;\n",
       "    }\n",
       "\n",
       "    .dataframe tbody tr th {\n",
       "        vertical-align: top;\n",
       "    }\n",
       "\n",
       "    .dataframe thead th {\n",
       "        text-align: right;\n",
       "    }\n",
       "</style>\n",
       "<table border=\"1\" class=\"dataframe\">\n",
       "  <thead>\n",
       "    <tr style=\"text-align: right;\">\n",
       "      <th></th>\n",
       "      <th>station</th>\n",
       "      <th>Date</th>\n",
       "      <th>entries_daily</th>\n",
       "      <th>exits_daily</th>\n",
       "      <th>traffic</th>\n",
       "    </tr>\n",
       "  </thead>\n",
       "  <tbody>\n",
       "    <tr>\n",
       "      <td>0</td>\n",
       "      <td>1 AV</td>\n",
       "      <td>2019-02-23</td>\n",
       "      <td>2.0</td>\n",
       "      <td>144.0</td>\n",
       "      <td>146.0</td>\n",
       "    </tr>\n",
       "    <tr>\n",
       "      <td>1</td>\n",
       "      <td>1 AV</td>\n",
       "      <td>2019-02-24</td>\n",
       "      <td>1.0</td>\n",
       "      <td>75.0</td>\n",
       "      <td>76.0</td>\n",
       "    </tr>\n",
       "    <tr>\n",
       "      <td>2</td>\n",
       "      <td>1 AV</td>\n",
       "      <td>2019-02-25</td>\n",
       "      <td>18567.0</td>\n",
       "      <td>20745.0</td>\n",
       "      <td>39312.0</td>\n",
       "    </tr>\n",
       "    <tr>\n",
       "      <td>3</td>\n",
       "      <td>1 AV</td>\n",
       "      <td>2019-02-26</td>\n",
       "      <td>19762.0</td>\n",
       "      <td>22245.0</td>\n",
       "      <td>42007.0</td>\n",
       "    </tr>\n",
       "    <tr>\n",
       "      <td>4</td>\n",
       "      <td>1 AV</td>\n",
       "      <td>2019-02-27</td>\n",
       "      <td>20150.0</td>\n",
       "      <td>22646.0</td>\n",
       "      <td>42796.0</td>\n",
       "    </tr>\n",
       "  </tbody>\n",
       "</table>\n",
       "</div>"
      ],
      "text/plain": [
       "  station       Date  entries_daily  exits_daily  traffic\n",
       "0    1 AV 2019-02-23            2.0        144.0    146.0\n",
       "1    1 AV 2019-02-24            1.0         75.0     76.0\n",
       "2    1 AV 2019-02-25        18567.0      20745.0  39312.0\n",
       "3    1 AV 2019-02-26        19762.0      22245.0  42007.0\n",
       "4    1 AV 2019-02-27        20150.0      22646.0  42796.0"
      ]
     },
     "execution_count": 33,
     "metadata": {},
     "output_type": "execute_result"
    }
   ],
   "source": [
    "station_daily.head()"
   ]
  },
  {
   "cell_type": "code",
   "execution_count": 34,
   "metadata": {},
   "outputs": [],
   "source": [
    "# Sum of entries by stations for March, April and May 2019\n",
    "station_total = station_daily.groupby(['station'])['entries_daily', 'exits_daily', 'traffic'].sum().reset_index()"
   ]
  },
  {
   "cell_type": "code",
   "execution_count": 35,
   "metadata": {},
   "outputs": [
    {
     "data": {
      "text/html": [
       "<div>\n",
       "<style scoped>\n",
       "    .dataframe tbody tr th:only-of-type {\n",
       "        vertical-align: middle;\n",
       "    }\n",
       "\n",
       "    .dataframe tbody tr th {\n",
       "        vertical-align: top;\n",
       "    }\n",
       "\n",
       "    .dataframe thead th {\n",
       "        text-align: right;\n",
       "    }\n",
       "</style>\n",
       "<table border=\"1\" class=\"dataframe\">\n",
       "  <thead>\n",
       "    <tr style=\"text-align: right;\">\n",
       "      <th></th>\n",
       "      <th>station</th>\n",
       "      <th>entries_daily</th>\n",
       "      <th>exits_daily</th>\n",
       "      <th>traffic</th>\n",
       "    </tr>\n",
       "  </thead>\n",
       "  <tbody>\n",
       "    <tr>\n",
       "      <td>61</td>\n",
       "      <td>34 ST-PENN STA</td>\n",
       "      <td>13213388.0</td>\n",
       "      <td>12041248.0</td>\n",
       "      <td>25254636.0</td>\n",
       "    </tr>\n",
       "    <tr>\n",
       "      <td>233</td>\n",
       "      <td>GRD CNTRL-42 ST</td>\n",
       "      <td>11541597.0</td>\n",
       "      <td>10194318.0</td>\n",
       "      <td>21735915.0</td>\n",
       "    </tr>\n",
       "    <tr>\n",
       "      <td>59</td>\n",
       "      <td>34 ST-HERALD SQ</td>\n",
       "      <td>9174737.0</td>\n",
       "      <td>9009044.0</td>\n",
       "      <td>18183781.0</td>\n",
       "    </tr>\n",
       "    <tr>\n",
       "      <td>14</td>\n",
       "      <td>14 ST-UNION SQ</td>\n",
       "      <td>8283773.0</td>\n",
       "      <td>7640462.0</td>\n",
       "      <td>15924235.0</td>\n",
       "    </tr>\n",
       "    <tr>\n",
       "      <td>46</td>\n",
       "      <td>23 ST</td>\n",
       "      <td>8939690.0</td>\n",
       "      <td>6560980.0</td>\n",
       "      <td>15500670.0</td>\n",
       "    </tr>\n",
       "    <tr>\n",
       "      <td>353</td>\n",
       "      <td>TIMES SQ-42 ST</td>\n",
       "      <td>7964216.0</td>\n",
       "      <td>7528638.0</td>\n",
       "      <td>15492854.0</td>\n",
       "    </tr>\n",
       "    <tr>\n",
       "      <td>68</td>\n",
       "      <td>42 ST-PORT AUTH</td>\n",
       "      <td>7461316.0</td>\n",
       "      <td>6378715.0</td>\n",
       "      <td>13840031.0</td>\n",
       "    </tr>\n",
       "    <tr>\n",
       "      <td>226</td>\n",
       "      <td>FULTON ST</td>\n",
       "      <td>7421486.0</td>\n",
       "      <td>6262737.0</td>\n",
       "      <td>13684223.0</td>\n",
       "    </tr>\n",
       "    <tr>\n",
       "      <td>110</td>\n",
       "      <td>86 ST</td>\n",
       "      <td>6522669.0</td>\n",
       "      <td>5987315.0</td>\n",
       "      <td>12509984.0</td>\n",
       "    </tr>\n",
       "    <tr>\n",
       "      <td>9</td>\n",
       "      <td>125 ST</td>\n",
       "      <td>6122705.0</td>\n",
       "      <td>5151031.0</td>\n",
       "      <td>11273736.0</td>\n",
       "    </tr>\n",
       "  </tbody>\n",
       "</table>\n",
       "</div>"
      ],
      "text/plain": [
       "             station  entries_daily  exits_daily     traffic\n",
       "61    34 ST-PENN STA     13213388.0   12041248.0  25254636.0\n",
       "233  GRD CNTRL-42 ST     11541597.0   10194318.0  21735915.0\n",
       "59   34 ST-HERALD SQ      9174737.0    9009044.0  18183781.0\n",
       "14    14 ST-UNION SQ      8283773.0    7640462.0  15924235.0\n",
       "46             23 ST      8939690.0    6560980.0  15500670.0\n",
       "353   TIMES SQ-42 ST      7964216.0    7528638.0  15492854.0\n",
       "68   42 ST-PORT AUTH      7461316.0    6378715.0  13840031.0\n",
       "226        FULTON ST      7421486.0    6262737.0  13684223.0\n",
       "110            86 ST      6522669.0    5987315.0  12509984.0\n",
       "9             125 ST      6122705.0    5151031.0  11273736.0"
      ]
     },
     "execution_count": 35,
     "metadata": {},
     "output_type": "execute_result"
    }
   ],
   "source": [
    "# Top 10 staions by total traffic (March, April and May 2019)\n",
    "station_total.sort_values(['traffic'], ascending=False).head(10)"
   ]
  },
  {
   "cell_type": "code",
   "execution_count": 36,
   "metadata": {},
   "outputs": [],
   "source": [
    "# Daily average traffic for each station\n",
    "station_daily_mean = station_daily.groupby(['station'])['Date', 'entries_daily', 'exits_daily', 'traffic'].mean()"
   ]
  },
  {
   "cell_type": "markdown",
   "metadata": {},
   "source": [
    "## Graphs"
   ]
  },
  {
   "cell_type": "code",
   "execution_count": 37,
   "metadata": {
    "scrolled": true
   },
   "outputs": [
    {
     "data": {
      "image/png": "[encoded data removed]",
      "text/plain": [
       "<Figure size 432x288 with 1 Axes>"
      ]
     },
     "metadata": {
      "needs_background": "light"
     },
     "output_type": "display_data"
    }
   ],
   "source": [
    "# Distribution of station daily average\n",
    "station_daily_mean.traffic.hist(bins=40)\n",
    "plt.title('Distribution of Station Average Daily Traffic', fontsize=15)\n",
    "plt.xlabel('Daily Traffic Through a Station', fontsize=15)\n",
    "plt.ylabel('Number of Stations', fontsize=15)\n",
    "# plt.figure(figsize=(5,5))\n",
    "plt.savefig('all_station_hist.svg')"
   ]
  },
  {
   "cell_type": "code",
   "execution_count": 38,
   "metadata": {},
   "outputs": [
    {
     "data": {
      "image/png": "[encoded data removed]",
      "text/plain": [
       "<Figure size 432x288 with 1 Axes>"
      ]
     },
     "metadata": {
      "needs_background": "light"
     },
     "output_type": "display_data"
    }
   ],
   "source": [
    "# Distribution of station daily average (no grid)\n",
    "station_daily_mean.traffic.hist(bins=40)\n",
    "plt.title('All Stations', fontsize=15)\n",
    "plt.xlabel('Daily Traffic Through a Station', fontsize=15)\n",
    "plt.ylabel('Number of Stations', fontsize=15)\n",
    "# plt.figure(figsize=(5,5))\n",
    "plt.savefig('all_station_hist.svg', bbox_inches='tight')\n",
    "plt.grid(None)"
   ]
  },
  {
   "cell_type": "code",
   "execution_count": 39,
   "metadata": {
    "scrolled": true
   },
   "outputs": [
    {
     "data": {
      "text/html": [
       "<div>\n",
       "<style scoped>\n",
       "    .dataframe tbody tr th:only-of-type {\n",
       "        vertical-align: middle;\n",
       "    }\n",
       "\n",
       "    .dataframe tbody tr th {\n",
       "        vertical-align: top;\n",
       "    }\n",
       "\n",
       "    .dataframe thead th {\n",
       "        text-align: right;\n",
       "    }\n",
       "</style>\n",
       "<table border=\"1\" class=\"dataframe\">\n",
       "  <thead>\n",
       "    <tr style=\"text-align: right;\">\n",
       "      <th></th>\n",
       "      <th>entries_daily</th>\n",
       "      <th>exits_daily</th>\n",
       "      <th>traffic</th>\n",
       "    </tr>\n",
       "    <tr>\n",
       "      <th>station</th>\n",
       "      <th></th>\n",
       "      <th></th>\n",
       "      <th></th>\n",
       "    </tr>\n",
       "  </thead>\n",
       "  <tbody>\n",
       "    <tr>\n",
       "      <td>34 ST-PENN STA</td>\n",
       "      <td>145202.065934</td>\n",
       "      <td>132321.406593</td>\n",
       "      <td>277523.472527</td>\n",
       "    </tr>\n",
       "    <tr>\n",
       "      <td>GRD CNTRL-42 ST</td>\n",
       "      <td>126830.736264</td>\n",
       "      <td>112025.472527</td>\n",
       "      <td>238856.208791</td>\n",
       "    </tr>\n",
       "    <tr>\n",
       "      <td>34 ST-HERALD SQ</td>\n",
       "      <td>100821.285714</td>\n",
       "      <td>99000.483516</td>\n",
       "      <td>199821.769231</td>\n",
       "    </tr>\n",
       "    <tr>\n",
       "      <td>14 ST-UNION SQ</td>\n",
       "      <td>91030.472527</td>\n",
       "      <td>83961.120879</td>\n",
       "      <td>174991.593407</td>\n",
       "    </tr>\n",
       "    <tr>\n",
       "      <td>23 ST</td>\n",
       "      <td>98238.351648</td>\n",
       "      <td>72098.681319</td>\n",
       "      <td>170337.032967</td>\n",
       "    </tr>\n",
       "    <tr>\n",
       "      <td>TIMES SQ-42 ST</td>\n",
       "      <td>87518.857143</td>\n",
       "      <td>82732.285714</td>\n",
       "      <td>170251.142857</td>\n",
       "    </tr>\n",
       "    <tr>\n",
       "      <td>42 ST-PORT AUTH</td>\n",
       "      <td>81992.483516</td>\n",
       "      <td>70095.769231</td>\n",
       "      <td>152088.252747</td>\n",
       "    </tr>\n",
       "    <tr>\n",
       "      <td>FULTON ST</td>\n",
       "      <td>81554.791209</td>\n",
       "      <td>68821.285714</td>\n",
       "      <td>150376.076923</td>\n",
       "    </tr>\n",
       "    <tr>\n",
       "      <td>86 ST</td>\n",
       "      <td>71677.681319</td>\n",
       "      <td>65794.670330</td>\n",
       "      <td>137472.351648</td>\n",
       "    </tr>\n",
       "    <tr>\n",
       "      <td>125 ST</td>\n",
       "      <td>67282.472527</td>\n",
       "      <td>56604.736264</td>\n",
       "      <td>123887.208791</td>\n",
       "    </tr>\n",
       "  </tbody>\n",
       "</table>\n",
       "</div>"
      ],
      "text/plain": [
       "                 entries_daily    exits_daily        traffic\n",
       "station                                                     \n",
       "34 ST-PENN STA   145202.065934  132321.406593  277523.472527\n",
       "GRD CNTRL-42 ST  126830.736264  112025.472527  238856.208791\n",
       "34 ST-HERALD SQ  100821.285714   99000.483516  199821.769231\n",
       "14 ST-UNION SQ    91030.472527   83961.120879  174991.593407\n",
       "23 ST             98238.351648   72098.681319  170337.032967\n",
       "TIMES SQ-42 ST    87518.857143   82732.285714  170251.142857\n",
       "42 ST-PORT AUTH   81992.483516   70095.769231  152088.252747\n",
       "FULTON ST         81554.791209   68821.285714  150376.076923\n",
       "86 ST             71677.681319   65794.670330  137472.351648\n",
       "125 ST            67282.472527   56604.736264  123887.208791"
      ]
     },
     "execution_count": 39,
     "metadata": {},
     "output_type": "execute_result"
    }
   ],
   "source": [
    "# Top 10 busiest stations\n",
    "top10_daily_mean = station_daily_mean.sort_values(['traffic'], ascending=False)[:10]\n",
    "top10_daily_mean"
   ]
  },
  {
   "cell_type": "code",
   "execution_count": 40,
   "metadata": {},
   "outputs": [
    {
     "data": {
      "text/plain": [
       "Index(['34 ST-PENN STA', 'GRD CNTRL-42 ST', '34 ST-HERALD SQ',\n",
       "       '14 ST-UNION SQ', '23 ST', 'TIMES SQ-42 ST', '42 ST-PORT AUTH',\n",
       "       'FULTON ST', '86 ST', '125 ST'],\n",
       "      dtype='object', name='station')"
      ]
     },
     "execution_count": 40,
     "metadata": {},
     "output_type": "execute_result"
    }
   ],
   "source": [
    "# print top 10 busiest stations\n",
    "top10_daily_mean.index"
   ]
  },
  {
   "cell_type": "code",
   "execution_count": 41,
   "metadata": {},
   "outputs": [],
   "source": [
    "top_stations = [\n",
    "    '34 ST-PENN STA',\n",
    "    'GRD CNTRL-42 ST',\n",
    "    '34 ST-HERALD SQ',\n",
    "    '14 ST-UNION SQ',\n",
    "    'TIMES SQ-42 ST',\n",
    "    '23 ST',\n",
    "    '42 ST-PORT AUTH',\n",
    "    'FULTON ST', \n",
    "    '86 ST', \n",
    "    '125 ST'\n",
    "]"
   ]
  },
  {
   "cell_type": "code",
   "execution_count": 42,
   "metadata": {},
   "outputs": [],
   "source": [
    "top_station_names = [\n",
    "    '34 Street Penn Station',\n",
    "    'Grand Central Terminal',\n",
    "    '34th Street - Herald Square Station',\n",
    "    '14th Street - Union Square Station',\n",
    "    'Times Square - 42nd Street Station',\n",
    "    '23 Street Station',\n",
    "    '42 Street - Port Authority Station',\n",
    "    'Fulton Street Station',\n",
    "    '86 Street Station',\n",
    "    '125 Street Station'\n",
    "]"
   ]
  },
  {
   "cell_type": "code",
   "execution_count": 43,
   "metadata": {},
   "outputs": [
    {
     "data": {
      "image/png": "[encoded data removed]",
      "text/plain": [
       "<Figure size 432x288 with 1 Axes>"
      ]
     },
     "metadata": {
      "needs_background": "light"
     },
     "output_type": "display_data"
    }
   ],
   "source": [
    "# Top 10 stations by daily mean\n",
    "top10_daily_mean.traffic.plot.barh('traffic');"
   ]
  },
  {
   "cell_type": "code",
   "execution_count": 44,
   "metadata": {},
   "outputs": [
    {
     "data": {
      "text/html": [
       "<div>\n",
       "<style scoped>\n",
       "    .dataframe tbody tr th:only-of-type {\n",
       "        vertical-align: middle;\n",
       "    }\n",
       "\n",
       "    .dataframe tbody tr th {\n",
       "        vertical-align: top;\n",
       "    }\n",
       "\n",
       "    .dataframe thead th {\n",
       "        text-align: right;\n",
       "    }\n",
       "</style>\n",
       "<table border=\"1\" class=\"dataframe\">\n",
       "  <thead>\n",
       "    <tr style=\"text-align: right;\">\n",
       "      <th></th>\n",
       "      <th>station</th>\n",
       "      <th>Date</th>\n",
       "      <th>entries_daily</th>\n",
       "      <th>exits_daily</th>\n",
       "      <th>traffic</th>\n",
       "    </tr>\n",
       "  </thead>\n",
       "  <tbody>\n",
       "    <tr>\n",
       "      <td>818</td>\n",
       "      <td>125 ST</td>\n",
       "      <td>2019-02-23</td>\n",
       "      <td>49607.0</td>\n",
       "      <td>43791.0</td>\n",
       "      <td>93398.0</td>\n",
       "    </tr>\n",
       "    <tr>\n",
       "      <td>819</td>\n",
       "      <td>125 ST</td>\n",
       "      <td>2019-02-24</td>\n",
       "      <td>36662.0</td>\n",
       "      <td>33767.0</td>\n",
       "      <td>70429.0</td>\n",
       "    </tr>\n",
       "    <tr>\n",
       "      <td>820</td>\n",
       "      <td>125 ST</td>\n",
       "      <td>2019-02-25</td>\n",
       "      <td>75379.0</td>\n",
       "      <td>60195.0</td>\n",
       "      <td>135574.0</td>\n",
       "    </tr>\n",
       "    <tr>\n",
       "      <td>821</td>\n",
       "      <td>125 ST</td>\n",
       "      <td>2019-02-26</td>\n",
       "      <td>78379.0</td>\n",
       "      <td>61951.0</td>\n",
       "      <td>140330.0</td>\n",
       "    </tr>\n",
       "    <tr>\n",
       "      <td>822</td>\n",
       "      <td>125 ST</td>\n",
       "      <td>2019-02-27</td>\n",
       "      <td>79025.0</td>\n",
       "      <td>62546.0</td>\n",
       "      <td>141571.0</td>\n",
       "    </tr>\n",
       "    <tr>\n",
       "      <td>...</td>\n",
       "      <td>...</td>\n",
       "      <td>...</td>\n",
       "      <td>...</td>\n",
       "      <td>...</td>\n",
       "      <td>...</td>\n",
       "    </tr>\n",
       "    <tr>\n",
       "      <td>32028</td>\n",
       "      <td>TIMES SQ-42 ST</td>\n",
       "      <td>2019-05-20</td>\n",
       "      <td>97403.0</td>\n",
       "      <td>90026.0</td>\n",
       "      <td>187429.0</td>\n",
       "    </tr>\n",
       "    <tr>\n",
       "      <td>32029</td>\n",
       "      <td>TIMES SQ-42 ST</td>\n",
       "      <td>2019-05-21</td>\n",
       "      <td>104892.0</td>\n",
       "      <td>96663.0</td>\n",
       "      <td>201555.0</td>\n",
       "    </tr>\n",
       "    <tr>\n",
       "      <td>32030</td>\n",
       "      <td>TIMES SQ-42 ST</td>\n",
       "      <td>2019-05-22</td>\n",
       "      <td>107568.0</td>\n",
       "      <td>99649.0</td>\n",
       "      <td>207217.0</td>\n",
       "    </tr>\n",
       "    <tr>\n",
       "      <td>32031</td>\n",
       "      <td>TIMES SQ-42 ST</td>\n",
       "      <td>2019-05-23</td>\n",
       "      <td>102304.0</td>\n",
       "      <td>96701.0</td>\n",
       "      <td>199005.0</td>\n",
       "    </tr>\n",
       "    <tr>\n",
       "      <td>32032</td>\n",
       "      <td>TIMES SQ-42 ST</td>\n",
       "      <td>2019-05-24</td>\n",
       "      <td>0.0</td>\n",
       "      <td>0.0</td>\n",
       "      <td>0.0</td>\n",
       "    </tr>\n",
       "  </tbody>\n",
       "</table>\n",
       "<p>910 rows × 5 columns</p>\n",
       "</div>"
      ],
      "text/plain": [
       "              station       Date  entries_daily  exits_daily   traffic\n",
       "818            125 ST 2019-02-23        49607.0      43791.0   93398.0\n",
       "819            125 ST 2019-02-24        36662.0      33767.0   70429.0\n",
       "820            125 ST 2019-02-25        75379.0      60195.0  135574.0\n",
       "821            125 ST 2019-02-26        78379.0      61951.0  140330.0\n",
       "822            125 ST 2019-02-27        79025.0      62546.0  141571.0\n",
       "...               ...        ...            ...          ...       ...\n",
       "32028  TIMES SQ-42 ST 2019-05-20        97403.0      90026.0  187429.0\n",
       "32029  TIMES SQ-42 ST 2019-05-21       104892.0      96663.0  201555.0\n",
       "32030  TIMES SQ-42 ST 2019-05-22       107568.0      99649.0  207217.0\n",
       "32031  TIMES SQ-42 ST 2019-05-23       102304.0      96701.0  199005.0\n",
       "32032  TIMES SQ-42 ST 2019-05-24            0.0          0.0       0.0\n",
       "\n",
       "[910 rows x 5 columns]"
      ]
     },
     "execution_count": 44,
     "metadata": {},
     "output_type": "execute_result"
    }
   ],
   "source": [
    "top10_daily= station_daily[station_daily.station.isin(top_stations)]\n",
    "top10_daily.head()\n",
    "top10_daily"
   ]
  },
  {
   "cell_type": "code",
   "execution_count": 45,
   "metadata": {},
   "outputs": [
    {
     "data": {
      "image/png": "[encoded data removed]",
      "text/plain": [
       "<Figure size 864x432 with 1 Axes>"
      ]
     },
     "metadata": {
      "needs_background": "light"
     },
     "output_type": "display_data"
    }
   ],
   "source": [
    "# Stations with the most daily traffic \n",
    "color1='#7cfc00'\n",
    "color2='#a9a9a9'\n",
    "mypalette = [color1, color1, color1, color2, color2, color2, color2, color2, color2, color2]\n",
    "\n",
    "\n",
    "plt.figure(figsize=(12, 6))\n",
    "sns.set(font_scale = 1.5)\n",
    "chart = sns.barplot(x='traffic', y='station', data=top10_daily, \n",
    "            order=top_stations, \n",
    "            palette = sns.color_palette(mypalette,10))\n",
    "chart.set_yticklabels(top_station_names)\n",
    "plt.xlabel('Average daily traffic', fontsize=15)\n",
    "plt.ylabel('Stations', fontsize=15)\n",
    "\n",
    "plt.savefig('top10_barh_1.svg', bbox_inches = 'tight')"
   ]
  },
  {
   "cell_type": "code",
   "execution_count": 46,
   "metadata": {},
   "outputs": [
    {
     "data": {
      "image/png": "[encoded data removed]",
      "text/plain": [
       "<Figure size 1008x288 with 1 Axes>"
      ]
     },
     "metadata": {},
     "output_type": "display_data"
    }
   ],
   "source": [
    "# Stations with the most daily traffic \n",
    "plt.figure(figsize=(14, 4))\n",
    "sns.barplot(x='traffic', y='station', data=top10_daily, \n",
    "            order=top_stations, \n",
    "            palette = sns.color_palette(\"GnBu_d\",10))\n",
    "plt.xlabel('Average daily traffic', fontsize=15)\n",
    "plt.ylabel('Stations', fontsize=15)\n",
    "plt.savefig('top10_barh.svg')\n"
   ]
  },
  {
   "cell_type": "code",
   "execution_count": 47,
   "metadata": {
    "scrolled": false
   },
   "outputs": [
    {
     "name": "stderr",
     "output_type": "stream",
     "text": [
      "/Users/greenapple/anaconda3/lib/python3.7/site-packages/ipykernel_launcher.py:1: SettingWithCopyWarning: \n",
      "A value is trying to be set on a copy of a slice from a DataFrame.\n",
      "Try using .loc[row_indexer,col_indexer] = value instead\n",
      "\n",
      "See the caveats in the documentation: http://pandas.pydata.org/pandas-docs/stable/user_guide/indexing.html#returning-a-view-versus-a-copy\n",
      "  \"\"\"Entry point for launching an IPython kernel.\n"
     ]
    },
    {
     "data": {
      "text/html": [
       "<div>\n",
       "<style scoped>\n",
       "    .dataframe tbody tr th:only-of-type {\n",
       "        vertical-align: middle;\n",
       "    }\n",
       "\n",
       "    .dataframe tbody tr th {\n",
       "        vertical-align: top;\n",
       "    }\n",
       "\n",
       "    .dataframe thead th {\n",
       "        text-align: right;\n",
       "    }\n",
       "</style>\n",
       "<table border=\"1\" class=\"dataframe\">\n",
       "  <thead>\n",
       "    <tr style=\"text-align: right;\">\n",
       "      <th></th>\n",
       "      <th>station</th>\n",
       "      <th>Date</th>\n",
       "      <th>entries_daily</th>\n",
       "      <th>exits_daily</th>\n",
       "      <th>traffic</th>\n",
       "      <th>day_of_week</th>\n",
       "    </tr>\n",
       "  </thead>\n",
       "  <tbody>\n",
       "    <tr>\n",
       "      <td>818</td>\n",
       "      <td>125 ST</td>\n",
       "      <td>2019-02-23</td>\n",
       "      <td>49607.0</td>\n",
       "      <td>43791.0</td>\n",
       "      <td>93398.0</td>\n",
       "      <td>5</td>\n",
       "    </tr>\n",
       "    <tr>\n",
       "      <td>819</td>\n",
       "      <td>125 ST</td>\n",
       "      <td>2019-02-24</td>\n",
       "      <td>36662.0</td>\n",
       "      <td>33767.0</td>\n",
       "      <td>70429.0</td>\n",
       "      <td>6</td>\n",
       "    </tr>\n",
       "    <tr>\n",
       "      <td>820</td>\n",
       "      <td>125 ST</td>\n",
       "      <td>2019-02-25</td>\n",
       "      <td>75379.0</td>\n",
       "      <td>60195.0</td>\n",
       "      <td>135574.0</td>\n",
       "      <td>0</td>\n",
       "    </tr>\n",
       "    <tr>\n",
       "      <td>821</td>\n",
       "      <td>125 ST</td>\n",
       "      <td>2019-02-26</td>\n",
       "      <td>78379.0</td>\n",
       "      <td>61951.0</td>\n",
       "      <td>140330.0</td>\n",
       "      <td>1</td>\n",
       "    </tr>\n",
       "    <tr>\n",
       "      <td>822</td>\n",
       "      <td>125 ST</td>\n",
       "      <td>2019-02-27</td>\n",
       "      <td>79025.0</td>\n",
       "      <td>62546.0</td>\n",
       "      <td>141571.0</td>\n",
       "      <td>2</td>\n",
       "    </tr>\n",
       "  </tbody>\n",
       "</table>\n",
       "</div>"
      ],
      "text/plain": [
       "    station       Date  entries_daily  exits_daily   traffic  day_of_week\n",
       "818  125 ST 2019-02-23        49607.0      43791.0   93398.0            5\n",
       "819  125 ST 2019-02-24        36662.0      33767.0   70429.0            6\n",
       "820  125 ST 2019-02-25        75379.0      60195.0  135574.0            0\n",
       "821  125 ST 2019-02-26        78379.0      61951.0  140330.0            1\n",
       "822  125 ST 2019-02-27        79025.0      62546.0  141571.0            2"
      ]
     },
     "execution_count": 47,
     "metadata": {},
     "output_type": "execute_result"
    }
   ],
   "source": [
    "top10_daily['day_of_week']=top10_daily.Date.dt.dayofweek\n",
    "top10_daily.head()"
   ]
  },
  {
   "cell_type": "code",
   "execution_count": 48,
   "metadata": {},
   "outputs": [
    {
     "data": {
      "image/png": "[encoded data removed]",
      "text/plain": [
       "<Figure size 2016x288 with 10 Axes>"
      ]
     },
     "metadata": {},
     "output_type": "display_data"
    }
   ],
   "source": [
    "# Daily traffic by day of the week. Top 10 stations.\n",
    "\n",
    "g = sns.catplot(x=\"day_of_week\", y=\"traffic\", \n",
    "                col=\"station\", data=top10_daily, \n",
    "                kind=\"bar\", height=4, aspect=.7);"
   ]
  },
  {
   "cell_type": "code",
   "execution_count": 49,
   "metadata": {},
   "outputs": [
    {
     "data": {
      "image/png": "[encoded data removed]",
      "text/plain": [
       "<Figure size 288x288 with 1 Axes>"
      ]
     },
     "metadata": {},
     "output_type": "display_data"
    }
   ],
   "source": [
    "# Daily traffic  by day of the week. Penn station\n",
    "\n",
    "g = sns.catplot(x=\"day_of_week\", y=\"traffic\", \n",
    "            col=\"station\", \n",
    "            data=top10_daily[top10_daily.station==top_stations[0]], kind=\"bar\",\n",
    "            height=4, aspect=1);\n",
    "plt.savefig('day_time.svg')"
   ]
  },
  {
   "cell_type": "code",
   "execution_count": 50,
   "metadata": {},
   "outputs": [
    {
     "data": {
      "image/png": "[encoded data removed]",
      "text/plain": [
       "<Figure size 432x288 with 1 Axes>"
      ]
     },
     "metadata": {},
     "output_type": "display_data"
    }
   ],
   "source": [
    "# Daily traffic  by day of the week. Penn station\n",
    "color1='#7cfc00'\n",
    "color2='#a9a9a9'\n",
    "my_palette=[color1,color1,color1,color1,color1,color2,color2]\n",
    "sns.barplot(x='day_of_week', y='traffic', palette=my_palette, \n",
    "                data=top10_daily[top10_daily.station==top_stations[0]])\n",
    "plt.xticks([0,1,2,3,4,5,6],['Mon','Tue','Wed','Thu','Fri','Sat','Sun'], fontsize=15)\n",
    "plt.title('Example: 34th St - Penn Station', fontsize=15)\n",
    "plt.xlabel(' ', fontsize=15)\n",
    "plt.ylabel('Daily Traffic', fontsize=15)\n",
    "plt.savefig('wkday.svg', bbox_inches = 'tight')"
   ]
  },
  {
   "cell_type": "code",
   "execution_count": 51,
   "metadata": {},
   "outputs": [],
   "source": [
    "# Penn station time recomendation\n",
    "standard_times=['00:00:00', '04:00:00', '08:00:00', '12:00:00', '16:00:00', '20:00:00']\n",
    "\n",
    "penn_ts=mta[mta.station==top_stations[0]].copy()\n",
    "penn_by_time = penn_ts[penn_ts.time.isin(standard_times)].copy()\n",
    "\n",
    "#penn_by_time = penn_by_time.groupby(['turnstile_id'])['time'].apply()"
   ]
  },
  {
   "cell_type": "code",
   "execution_count": 52,
   "metadata": {},
   "outputs": [
    {
     "data": {
      "text/html": [
       "<div>\n",
       "<style scoped>\n",
       "    .dataframe tbody tr th:only-of-type {\n",
       "        vertical-align: middle;\n",
       "    }\n",
       "\n",
       "    .dataframe tbody tr th {\n",
       "        vertical-align: top;\n",
       "    }\n",
       "\n",
       "    .dataframe thead th {\n",
       "        text-align: right;\n",
       "    }\n",
       "</style>\n",
       "<table border=\"1\" class=\"dataframe\">\n",
       "  <thead>\n",
       "    <tr style=\"text-align: right;\">\n",
       "      <th></th>\n",
       "      <th>c_a</th>\n",
       "      <th>unit</th>\n",
       "      <th>scp</th>\n",
       "      <th>station</th>\n",
       "      <th>linename</th>\n",
       "      <th>devision</th>\n",
       "      <th>date</th>\n",
       "      <th>time</th>\n",
       "      <th>desc</th>\n",
       "      <th>entries</th>\n",
       "      <th>exits</th>\n",
       "      <th>turnstile_id</th>\n",
       "      <th>Datetime</th>\n",
       "      <th>Date</th>\n",
       "    </tr>\n",
       "  </thead>\n",
       "  <tbody>\n",
       "    <tr>\n",
       "      <td>52864</td>\n",
       "      <td>N067</td>\n",
       "      <td>R012</td>\n",
       "      <td>00-00-00</td>\n",
       "      <td>34 ST-PENN STA</td>\n",
       "      <td>ACE</td>\n",
       "      <td>IND</td>\n",
       "      <td>04/27/2019</td>\n",
       "      <td>00:00:00</td>\n",
       "      <td>REGULAR</td>\n",
       "      <td>6226</td>\n",
       "      <td>18077</td>\n",
       "      <td>N067, R012, 00-00-00, 34 ST-PENN STA</td>\n",
       "      <td>2019-04-27 00:00:00</td>\n",
       "      <td>2019-04-27</td>\n",
       "    </tr>\n",
       "    <tr>\n",
       "      <td>52865</td>\n",
       "      <td>N067</td>\n",
       "      <td>R012</td>\n",
       "      <td>00-00-00</td>\n",
       "      <td>34 ST-PENN STA</td>\n",
       "      <td>ACE</td>\n",
       "      <td>IND</td>\n",
       "      <td>04/27/2019</td>\n",
       "      <td>04:00:00</td>\n",
       "      <td>REGULAR</td>\n",
       "      <td>6230</td>\n",
       "      <td>18081</td>\n",
       "      <td>N067, R012, 00-00-00, 34 ST-PENN STA</td>\n",
       "      <td>2019-04-27 04:00:00</td>\n",
       "      <td>2019-04-27</td>\n",
       "    </tr>\n",
       "    <tr>\n",
       "      <td>52866</td>\n",
       "      <td>N067</td>\n",
       "      <td>R012</td>\n",
       "      <td>00-00-00</td>\n",
       "      <td>34 ST-PENN STA</td>\n",
       "      <td>ACE</td>\n",
       "      <td>IND</td>\n",
       "      <td>04/27/2019</td>\n",
       "      <td>08:00:00</td>\n",
       "      <td>REGULAR</td>\n",
       "      <td>6243</td>\n",
       "      <td>18160</td>\n",
       "      <td>N067, R012, 00-00-00, 34 ST-PENN STA</td>\n",
       "      <td>2019-04-27 08:00:00</td>\n",
       "      <td>2019-04-27</td>\n",
       "    </tr>\n",
       "    <tr>\n",
       "      <td>52867</td>\n",
       "      <td>N067</td>\n",
       "      <td>R012</td>\n",
       "      <td>00-00-00</td>\n",
       "      <td>34 ST-PENN STA</td>\n",
       "      <td>ACE</td>\n",
       "      <td>IND</td>\n",
       "      <td>04/27/2019</td>\n",
       "      <td>12:00:00</td>\n",
       "      <td>REGULAR</td>\n",
       "      <td>6306</td>\n",
       "      <td>18347</td>\n",
       "      <td>N067, R012, 00-00-00, 34 ST-PENN STA</td>\n",
       "      <td>2019-04-27 12:00:00</td>\n",
       "      <td>2019-04-27</td>\n",
       "    </tr>\n",
       "    <tr>\n",
       "      <td>52868</td>\n",
       "      <td>N067</td>\n",
       "      <td>R012</td>\n",
       "      <td>00-00-00</td>\n",
       "      <td>34 ST-PENN STA</td>\n",
       "      <td>ACE</td>\n",
       "      <td>IND</td>\n",
       "      <td>04/27/2019</td>\n",
       "      <td>16:00:00</td>\n",
       "      <td>REGULAR</td>\n",
       "      <td>6408</td>\n",
       "      <td>18614</td>\n",
       "      <td>N067, R012, 00-00-00, 34 ST-PENN STA</td>\n",
       "      <td>2019-04-27 16:00:00</td>\n",
       "      <td>2019-04-27</td>\n",
       "    </tr>\n",
       "  </tbody>\n",
       "</table>\n",
       "</div>"
      ],
      "text/plain": [
       "        c_a  unit       scp         station linename devision        date  \\\n",
       "52864  N067  R012  00-00-00  34 ST-PENN STA      ACE      IND  04/27/2019   \n",
       "52865  N067  R012  00-00-00  34 ST-PENN STA      ACE      IND  04/27/2019   \n",
       "52866  N067  R012  00-00-00  34 ST-PENN STA      ACE      IND  04/27/2019   \n",
       "52867  N067  R012  00-00-00  34 ST-PENN STA      ACE      IND  04/27/2019   \n",
       "52868  N067  R012  00-00-00  34 ST-PENN STA      ACE      IND  04/27/2019   \n",
       "\n",
       "           time     desc  entries  exits  \\\n",
       "52864  00:00:00  REGULAR     6226  18077   \n",
       "52865  04:00:00  REGULAR     6230  18081   \n",
       "52866  08:00:00  REGULAR     6243  18160   \n",
       "52867  12:00:00  REGULAR     6306  18347   \n",
       "52868  16:00:00  REGULAR     6408  18614   \n",
       "\n",
       "                               turnstile_id            Datetime       Date  \n",
       "52864  N067, R012, 00-00-00, 34 ST-PENN STA 2019-04-27 00:00:00 2019-04-27  \n",
       "52865  N067, R012, 00-00-00, 34 ST-PENN STA 2019-04-27 04:00:00 2019-04-27  \n",
       "52866  N067, R012, 00-00-00, 34 ST-PENN STA 2019-04-27 08:00:00 2019-04-27  \n",
       "52867  N067, R012, 00-00-00, 34 ST-PENN STA 2019-04-27 12:00:00 2019-04-27  \n",
       "52868  N067, R012, 00-00-00, 34 ST-PENN STA 2019-04-27 16:00:00 2019-04-27  "
      ]
     },
     "execution_count": 52,
     "metadata": {},
     "output_type": "execute_result"
    }
   ],
   "source": [
    "# Sort by turnstile and time\n",
    "penn_by_time.sort_values(['turnstile_id', 'Datetime'])\n",
    "penn_by_time.head()"
   ]
  },
  {
   "cell_type": "code",
   "execution_count": 53,
   "metadata": {},
   "outputs": [
    {
     "data": {
      "text/plain": [
       "12:00:00    5829\n",
       "04:00:00    5818\n",
       "16:00:00    5818\n",
       "20:00:00    5816\n",
       "08:00:00    5786\n",
       "00:00:00    5772\n",
       "Name: time, dtype: int64"
      ]
     },
     "execution_count": 53,
     "metadata": {},
     "output_type": "execute_result"
    }
   ],
   "source": [
    "penn_by_time.time.value_counts()"
   ]
  },
  {
   "cell_type": "code",
   "execution_count": 55,
   "metadata": {},
   "outputs": [],
   "source": [
    "# Remove entries with fewer than 6 time points per day\n",
    "time_filter = penn_by_time.groupby(['turnstile_id', 'Date'])['time'].count() == 6"
   ]
  },
  {
   "cell_type": "code",
   "execution_count": 56,
   "metadata": {},
   "outputs": [],
   "source": [
    "penn_by_time_filtered = penn_by_time.copy()\n",
    "penn_by_time_filtered = penn_by_time_filtered.groupby(['turnstile_id','Date'])['time'].count()\n",
    "dates = penn_by_time_filtered[time_filter]\n",
    "dates = dates.reset_index()\n",
    "                                                    \n",
    "dates['turnstile_date']=dates['turnstile_id']+dates['Date'].map(str)"
   ]
  },
  {
   "cell_type": "code",
   "execution_count": 58,
   "metadata": {},
   "outputs": [],
   "source": [
    "# penn = penn_by_time[penn_by_time.turnstile_date.isin(dates.turnstile_date.values)]\n",
    "# penn.drop_duplicates()\n",
    "# penn.shape"
   ]
  },
  {
   "cell_type": "code",
   "execution_count": null,
   "metadata": {},
   "outputs": [],
   "source": [
    "# Calculating entries and exits per time of the day\n",
    "# Last timestamp values are not calculated due to \"the lack of the next value\".\n",
    "\n",
    "#penn.drop('entries_hourly', axis=1, inplace=True)\n",
    "#penn['entries_hourly'] = penn.groupby(['turnstile_id', 'Date'])['entries'].mean.diff()\n",
    "\n",
    "# penn_by_time['exits_hourly'] = penn_by_time.groupby(['turnstile_id'])['exits'].diff()\n",
    "\n",
    "# Does not work"
   ]
  }
 ],
 "metadata": {
  "kernelspec": {
   "display_name": "Python 3",
   "language": "python",
   "name": "python3"
  },
  "language_info": {
   "codemirror_mode": {
    "name": "ipython",
    "version": 3
   },
   "file_extension": ".py",
   "mimetype": "text/x-python",
   "name": "python",
   "nbconvert_exporter": "python",
   "pygments_lexer": "ipython3",
   "version": "3.7.4"
  },
  "toc": {
   "base_numbering": 1,
   "nav_menu": {},
   "number_sections": true,
   "sideBar": true,
   "skip_h1_title": false,
   "title_cell": "Table of Contents",
   "title_sidebar": "Contents",
   "toc_cell": false,
   "toc_position": {},
   "toc_section_display": true,
   "toc_window_display": false
  }
 },
 "nbformat": 4,
 "nbformat_minor": 2
}
