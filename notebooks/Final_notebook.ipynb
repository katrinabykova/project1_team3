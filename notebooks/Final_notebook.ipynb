{
 "cells": [
  {
   "cell_type": "markdown",
   "metadata": {},
   "source": [
    "## Download data"
   ]
  },
  {
   "cell_type": "code",
   "execution_count": 1,
   "metadata": {},
   "outputs": [],
   "source": [
    "import pandas as pd\n",
    "import matplotlib.pyplot as plt\n",
    "import seaborn as sns\n",
    "import numpy as np"
   ]
  },
  {
   "cell_type": "code",
   "execution_count": 2,
   "metadata": {},
   "outputs": [],
   "source": [
    "# Urls with selected MTA data (May 2019)\n",
    "urls = [\n",
    "    'http://web.mta.info/developers/data/nyct/turnstile/turnstile_190504.txt',\n",
    "    'http://web.mta.info/developers/data/nyct/turnstile/turnstile_190511.txt',\n",
    "    'http://web.mta.info/developers/data/nyct/turnstile/turnstile_190518.txt',\n",
    "    'http://web.mta.info/developers/data/nyct/turnstile/turnstile_190525.txt'\n",
    "]"
   ]
  },
  {
   "cell_type": "code",
   "execution_count": 3,
   "metadata": {},
   "outputs": [],
   "source": [
    "# Read csv files in a dataframe\n",
    "df_list = []\n",
    "for url in urls:\n",
    "    df_list.append(pd.read_csv(url))\n",
    "\n",
    "mta = pd.concat(df_list)"
   ]
  },
  {
   "cell_type": "markdown",
   "metadata": {},
   "source": [
    "## Data formating"
   ]
  },
  {
   "cell_type": "code",
   "execution_count": 4,
   "metadata": {},
   "outputs": [
    {
     "name": "stdout",
     "output_type": "stream",
     "text": [
      "<class 'pandas.core.frame.DataFrame'>\n",
      "Int64Index: 822989 entries, 0 to 203362\n",
      "Data columns (total 11 columns):\n",
      "C/A                                                                     822989 non-null object\n",
      "UNIT                                                                    822989 non-null object\n",
      "SCP                                                                     822989 non-null object\n",
      "STATION                                                                 822989 non-null object\n",
      "LINENAME                                                                822989 non-null object\n",
      "DIVISION                                                                822989 non-null object\n",
      "DATE                                                                    822989 non-null object\n",
      "TIME                                                                    822989 non-null object\n",
      "DESC                                                                    822989 non-null object\n",
      "ENTRIES                                                                 822989 non-null int64\n",
      "EXITS                                                                   822989 non-null int64\n",
      "dtypes: int64(2), object(9)\n",
      "memory usage: 75.3+ MB\n"
     ]
    }
   ],
   "source": [
    "# Check data for missing or null values\n",
    "mta.info()"
   ]
  },
  {
   "cell_type": "code",
   "execution_count": 5,
   "metadata": {},
   "outputs": [
    {
     "data": {
      "text/plain": [
       "Index(['C/A', 'UNIT', 'SCP', 'STATION', 'LINENAME', 'DIVISION', 'DATE', 'TIME',\n",
       "       'DESC', 'ENTRIES',\n",
       "       'EXITS                                                               '],\n",
       "      dtype='object')"
      ]
     },
     "execution_count": 5,
     "metadata": {},
     "output_type": "execute_result"
    }
   ],
   "source": [
    "mta.columns"
   ]
  },
  {
   "cell_type": "code",
   "execution_count": 6,
   "metadata": {},
   "outputs": [],
   "source": [
    "# Rename columns\n",
    "mta.rename(columns={\n",
    "    'C/A':'c_a',\n",
    "    'UNIT':'unit',\n",
    "    'SCP':'scp',\n",
    "    'STATION':'station',\n",
    "    'LINENAME':'linename',\n",
    "    'DIVISION':'devision',\n",
    "    'DATE':'date',\n",
    "    'TIME':'time',\n",
    "    'DESC':'desc',\n",
    "    'ENTRIES':'entries',\n",
    "    'EXITS                                                               ':'exits'\n",
    "    }, inplace=True)"
   ]
  },
  {
   "cell_type": "code",
   "execution_count": 7,
   "metadata": {},
   "outputs": [
    {
     "data": {
      "text/html": [
       "<div>\n",
       "<style scoped>\n",
       "    .dataframe tbody tr th:only-of-type {\n",
       "        vertical-align: middle;\n",
       "    }\n",
       "\n",
       "    .dataframe tbody tr th {\n",
       "        vertical-align: top;\n",
       "    }\n",
       "\n",
       "    .dataframe thead th {\n",
       "        text-align: right;\n",
       "    }\n",
       "</style>\n",
       "<table border=\"1\" class=\"dataframe\">\n",
       "  <thead>\n",
       "    <tr style=\"text-align: right;\">\n",
       "      <th></th>\n",
       "      <th>entries</th>\n",
       "      <th>exits</th>\n",
       "    </tr>\n",
       "  </thead>\n",
       "  <tbody>\n",
       "    <tr>\n",
       "      <td>count</td>\n",
       "      <td>8.229890e+05</td>\n",
       "      <td>8.229890e+05</td>\n",
       "    </tr>\n",
       "    <tr>\n",
       "      <td>mean</td>\n",
       "      <td>4.137444e+07</td>\n",
       "      <td>3.392040e+07</td>\n",
       "    </tr>\n",
       "    <tr>\n",
       "      <td>std</td>\n",
       "      <td>2.110233e+08</td>\n",
       "      <td>1.945992e+08</td>\n",
       "    </tr>\n",
       "    <tr>\n",
       "      <td>min</td>\n",
       "      <td>0.000000e+00</td>\n",
       "      <td>0.000000e+00</td>\n",
       "    </tr>\n",
       "    <tr>\n",
       "      <td>25%</td>\n",
       "      <td>3.552810e+05</td>\n",
       "      <td>1.453550e+05</td>\n",
       "    </tr>\n",
       "    <tr>\n",
       "      <td>50%</td>\n",
       "      <td>2.179688e+06</td>\n",
       "      <td>1.249356e+06</td>\n",
       "    </tr>\n",
       "    <tr>\n",
       "      <td>75%</td>\n",
       "      <td>6.796341e+06</td>\n",
       "      <td>4.610048e+06</td>\n",
       "    </tr>\n",
       "    <tr>\n",
       "      <td>max</td>\n",
       "      <td>2.129343e+09</td>\n",
       "      <td>2.124127e+09</td>\n",
       "    </tr>\n",
       "  </tbody>\n",
       "</table>\n",
       "</div>"
      ],
      "text/plain": [
       "            entries         exits\n",
       "count  8.229890e+05  8.229890e+05\n",
       "mean   4.137444e+07  3.392040e+07\n",
       "std    2.110233e+08  1.945992e+08\n",
       "min    0.000000e+00  0.000000e+00\n",
       "25%    3.552810e+05  1.453550e+05\n",
       "50%    2.179688e+06  1.249356e+06\n",
       "75%    6.796341e+06  4.610048e+06\n",
       "max    2.129343e+09  2.124127e+09"
      ]
     },
     "execution_count": 7,
     "metadata": {},
     "output_type": "execute_result"
    }
   ],
   "source": [
    "# Data statistics\n",
    "mta.describe()"
   ]
  },
  {
   "cell_type": "code",
   "execution_count": 8,
   "metadata": {},
   "outputs": [
    {
     "data": {
      "text/html": [
       "<div>\n",
       "<style scoped>\n",
       "    .dataframe tbody tr th:only-of-type {\n",
       "        vertical-align: middle;\n",
       "    }\n",
       "\n",
       "    .dataframe tbody tr th {\n",
       "        vertical-align: top;\n",
       "    }\n",
       "\n",
       "    .dataframe thead th {\n",
       "        text-align: right;\n",
       "    }\n",
       "</style>\n",
       "<table border=\"1\" class=\"dataframe\">\n",
       "  <thead>\n",
       "    <tr style=\"text-align: right;\">\n",
       "      <th></th>\n",
       "      <th>c_a</th>\n",
       "      <th>unit</th>\n",
       "      <th>scp</th>\n",
       "      <th>station</th>\n",
       "      <th>linename</th>\n",
       "      <th>devision</th>\n",
       "      <th>date</th>\n",
       "      <th>time</th>\n",
       "      <th>desc</th>\n",
       "      <th>entries</th>\n",
       "      <th>exits</th>\n",
       "      <th>turnstile_id</th>\n",
       "    </tr>\n",
       "  </thead>\n",
       "  <tbody>\n",
       "    <tr>\n",
       "      <td>0</td>\n",
       "      <td>A002</td>\n",
       "      <td>R051</td>\n",
       "      <td>02-00-00</td>\n",
       "      <td>59 ST</td>\n",
       "      <td>NQR456W</td>\n",
       "      <td>BMT</td>\n",
       "      <td>04/27/2019</td>\n",
       "      <td>00:00:00</td>\n",
       "      <td>REGULAR</td>\n",
       "      <td>7035249</td>\n",
       "      <td>2384833</td>\n",
       "      <td>A002, R051, 02-00-00, 59 ST</td>\n",
       "    </tr>\n",
       "    <tr>\n",
       "      <td>1</td>\n",
       "      <td>A002</td>\n",
       "      <td>R051</td>\n",
       "      <td>02-00-00</td>\n",
       "      <td>59 ST</td>\n",
       "      <td>NQR456W</td>\n",
       "      <td>BMT</td>\n",
       "      <td>04/27/2019</td>\n",
       "      <td>04:00:00</td>\n",
       "      <td>REGULAR</td>\n",
       "      <td>7035269</td>\n",
       "      <td>2384840</td>\n",
       "      <td>A002, R051, 02-00-00, 59 ST</td>\n",
       "    </tr>\n",
       "    <tr>\n",
       "      <td>2</td>\n",
       "      <td>A002</td>\n",
       "      <td>R051</td>\n",
       "      <td>02-00-00</td>\n",
       "      <td>59 ST</td>\n",
       "      <td>NQR456W</td>\n",
       "      <td>BMT</td>\n",
       "      <td>04/27/2019</td>\n",
       "      <td>08:00:00</td>\n",
       "      <td>REGULAR</td>\n",
       "      <td>7035292</td>\n",
       "      <td>2384875</td>\n",
       "      <td>A002, R051, 02-00-00, 59 ST</td>\n",
       "    </tr>\n",
       "    <tr>\n",
       "      <td>3</td>\n",
       "      <td>A002</td>\n",
       "      <td>R051</td>\n",
       "      <td>02-00-00</td>\n",
       "      <td>59 ST</td>\n",
       "      <td>NQR456W</td>\n",
       "      <td>BMT</td>\n",
       "      <td>04/27/2019</td>\n",
       "      <td>12:00:00</td>\n",
       "      <td>REGULAR</td>\n",
       "      <td>7035392</td>\n",
       "      <td>2384951</td>\n",
       "      <td>A002, R051, 02-00-00, 59 ST</td>\n",
       "    </tr>\n",
       "    <tr>\n",
       "      <td>4</td>\n",
       "      <td>A002</td>\n",
       "      <td>R051</td>\n",
       "      <td>02-00-00</td>\n",
       "      <td>59 ST</td>\n",
       "      <td>NQR456W</td>\n",
       "      <td>BMT</td>\n",
       "      <td>04/27/2019</td>\n",
       "      <td>16:00:00</td>\n",
       "      <td>REGULAR</td>\n",
       "      <td>7035651</td>\n",
       "      <td>2385020</td>\n",
       "      <td>A002, R051, 02-00-00, 59 ST</td>\n",
       "    </tr>\n",
       "  </tbody>\n",
       "</table>\n",
       "</div>"
      ],
      "text/plain": [
       "    c_a  unit       scp station linename devision        date      time  \\\n",
       "0  A002  R051  02-00-00   59 ST  NQR456W      BMT  04/27/2019  00:00:00   \n",
       "1  A002  R051  02-00-00   59 ST  NQR456W      BMT  04/27/2019  04:00:00   \n",
       "2  A002  R051  02-00-00   59 ST  NQR456W      BMT  04/27/2019  08:00:00   \n",
       "3  A002  R051  02-00-00   59 ST  NQR456W      BMT  04/27/2019  12:00:00   \n",
       "4  A002  R051  02-00-00   59 ST  NQR456W      BMT  04/27/2019  16:00:00   \n",
       "\n",
       "      desc  entries    exits                 turnstile_id  \n",
       "0  REGULAR  7035249  2384833  A002, R051, 02-00-00, 59 ST  \n",
       "1  REGULAR  7035269  2384840  A002, R051, 02-00-00, 59 ST  \n",
       "2  REGULAR  7035292  2384875  A002, R051, 02-00-00, 59 ST  \n",
       "3  REGULAR  7035392  2384951  A002, R051, 02-00-00, 59 ST  \n",
       "4  REGULAR  7035651  2385020  A002, R051, 02-00-00, 59 ST  "
      ]
     },
     "execution_count": 8,
     "metadata": {},
     "output_type": "execute_result"
    }
   ],
   "source": [
    "#Make a column with a unique ID for each turnstile\n",
    "mta['turnstile_id'] = mta['c_a'] + ', ' + mta['unit'] + ', '+ mta['scp'] + ', ' + mta['station']\n",
    "mta.head()"
   ]
  },
  {
   "cell_type": "code",
   "execution_count": 9,
   "metadata": {},
   "outputs": [
    {
     "data": {
      "image/png": "[encoded data removed]",
      "text/plain": [
       "<Figure size 432x288 with 1 Axes>"
      ]
     },
     "metadata": {
      "needs_background": "light"
     },
     "output_type": "display_data"
    }
   ],
   "source": [
    "#Some turnstiles lack data. A few have more data points than expected.\n",
    "plt.boxplot(mta.turnstile_id.value_counts()) \n",
    "plt.xlabel('All turnstile', fontsize=10)\n",
    "plt.ylabel('Number of data points per turnstile', fontsize=10)\n",
    "plt.savefig('tunstile_missing_data.svg')"
   ]
  },
  {
   "cell_type": "code",
   "execution_count": 10,
   "metadata": {},
   "outputs": [
    {
     "data": {
      "text/html": [
       "<div>\n",
       "<style scoped>\n",
       "    .dataframe tbody tr th:only-of-type {\n",
       "        vertical-align: middle;\n",
       "    }\n",
       "\n",
       "    .dataframe tbody tr th {\n",
       "        vertical-align: top;\n",
       "    }\n",
       "\n",
       "    .dataframe thead th {\n",
       "        text-align: right;\n",
       "    }\n",
       "</style>\n",
       "<table border=\"1\" class=\"dataframe\">\n",
       "  <thead>\n",
       "    <tr style=\"text-align: right;\">\n",
       "      <th></th>\n",
       "      <th>c_a</th>\n",
       "      <th>unit</th>\n",
       "      <th>scp</th>\n",
       "      <th>station</th>\n",
       "      <th>linename</th>\n",
       "      <th>devision</th>\n",
       "      <th>date</th>\n",
       "      <th>time</th>\n",
       "      <th>desc</th>\n",
       "      <th>entries</th>\n",
       "      <th>exits</th>\n",
       "      <th>turnstile_id</th>\n",
       "      <th>Datetime</th>\n",
       "      <th>Date</th>\n",
       "    </tr>\n",
       "  </thead>\n",
       "  <tbody>\n",
       "    <tr>\n",
       "      <td>0</td>\n",
       "      <td>A002</td>\n",
       "      <td>R051</td>\n",
       "      <td>02-00-00</td>\n",
       "      <td>59 ST</td>\n",
       "      <td>NQR456W</td>\n",
       "      <td>BMT</td>\n",
       "      <td>04/27/2019</td>\n",
       "      <td>00:00:00</td>\n",
       "      <td>REGULAR</td>\n",
       "      <td>7035249</td>\n",
       "      <td>2384833</td>\n",
       "      <td>A002, R051, 02-00-00, 59 ST</td>\n",
       "      <td>2019-04-27 00:00:00</td>\n",
       "      <td>2019-04-27</td>\n",
       "    </tr>\n",
       "    <tr>\n",
       "      <td>1</td>\n",
       "      <td>A002</td>\n",
       "      <td>R051</td>\n",
       "      <td>02-00-00</td>\n",
       "      <td>59 ST</td>\n",
       "      <td>NQR456W</td>\n",
       "      <td>BMT</td>\n",
       "      <td>04/27/2019</td>\n",
       "      <td>04:00:00</td>\n",
       "      <td>REGULAR</td>\n",
       "      <td>7035269</td>\n",
       "      <td>2384840</td>\n",
       "      <td>A002, R051, 02-00-00, 59 ST</td>\n",
       "      <td>2019-04-27 04:00:00</td>\n",
       "      <td>2019-04-27</td>\n",
       "    </tr>\n",
       "    <tr>\n",
       "      <td>2</td>\n",
       "      <td>A002</td>\n",
       "      <td>R051</td>\n",
       "      <td>02-00-00</td>\n",
       "      <td>59 ST</td>\n",
       "      <td>NQR456W</td>\n",
       "      <td>BMT</td>\n",
       "      <td>04/27/2019</td>\n",
       "      <td>08:00:00</td>\n",
       "      <td>REGULAR</td>\n",
       "      <td>7035292</td>\n",
       "      <td>2384875</td>\n",
       "      <td>A002, R051, 02-00-00, 59 ST</td>\n",
       "      <td>2019-04-27 08:00:00</td>\n",
       "      <td>2019-04-27</td>\n",
       "    </tr>\n",
       "    <tr>\n",
       "      <td>3</td>\n",
       "      <td>A002</td>\n",
       "      <td>R051</td>\n",
       "      <td>02-00-00</td>\n",
       "      <td>59 ST</td>\n",
       "      <td>NQR456W</td>\n",
       "      <td>BMT</td>\n",
       "      <td>04/27/2019</td>\n",
       "      <td>12:00:00</td>\n",
       "      <td>REGULAR</td>\n",
       "      <td>7035392</td>\n",
       "      <td>2384951</td>\n",
       "      <td>A002, R051, 02-00-00, 59 ST</td>\n",
       "      <td>2019-04-27 12:00:00</td>\n",
       "      <td>2019-04-27</td>\n",
       "    </tr>\n",
       "    <tr>\n",
       "      <td>4</td>\n",
       "      <td>A002</td>\n",
       "      <td>R051</td>\n",
       "      <td>02-00-00</td>\n",
       "      <td>59 ST</td>\n",
       "      <td>NQR456W</td>\n",
       "      <td>BMT</td>\n",
       "      <td>04/27/2019</td>\n",
       "      <td>16:00:00</td>\n",
       "      <td>REGULAR</td>\n",
       "      <td>7035651</td>\n",
       "      <td>2385020</td>\n",
       "      <td>A002, R051, 02-00-00, 59 ST</td>\n",
       "      <td>2019-04-27 16:00:00</td>\n",
       "      <td>2019-04-27</td>\n",
       "    </tr>\n",
       "  </tbody>\n",
       "</table>\n",
       "</div>"
      ],
      "text/plain": [
       "    c_a  unit       scp station linename devision        date      time  \\\n",
       "0  A002  R051  02-00-00   59 ST  NQR456W      BMT  04/27/2019  00:00:00   \n",
       "1  A002  R051  02-00-00   59 ST  NQR456W      BMT  04/27/2019  04:00:00   \n",
       "2  A002  R051  02-00-00   59 ST  NQR456W      BMT  04/27/2019  08:00:00   \n",
       "3  A002  R051  02-00-00   59 ST  NQR456W      BMT  04/27/2019  12:00:00   \n",
       "4  A002  R051  02-00-00   59 ST  NQR456W      BMT  04/27/2019  16:00:00   \n",
       "\n",
       "      desc  entries    exits                 turnstile_id            Datetime  \\\n",
       "0  REGULAR  7035249  2384833  A002, R051, 02-00-00, 59 ST 2019-04-27 00:00:00   \n",
       "1  REGULAR  7035269  2384840  A002, R051, 02-00-00, 59 ST 2019-04-27 04:00:00   \n",
       "2  REGULAR  7035292  2384875  A002, R051, 02-00-00, 59 ST 2019-04-27 08:00:00   \n",
       "3  REGULAR  7035392  2384951  A002, R051, 02-00-00, 59 ST 2019-04-27 12:00:00   \n",
       "4  REGULAR  7035651  2385020  A002, R051, 02-00-00, 59 ST 2019-04-27 16:00:00   \n",
       "\n",
       "        Date  \n",
       "0 2019-04-27  \n",
       "1 2019-04-27  \n",
       "2 2019-04-27  \n",
       "3 2019-04-27  \n",
       "4 2019-04-27  "
      ]
     },
     "execution_count": 10,
     "metadata": {},
     "output_type": "execute_result"
    }
   ],
   "source": [
    "# Add datetime and date variables\n",
    "mta['Datetime'] = pd.to_datetime(mta['date'] + ' ' + mta['time'])\n",
    "mta['Date'] = pd.to_datetime(mta['date'])\n",
    "\n",
    "mta.head()"
   ]
  },
  {
   "cell_type": "code",
   "execution_count": 11,
   "metadata": {},
   "outputs": [
    {
     "data": {
      "text/plain": [
       "4870"
      ]
     },
     "execution_count": 11,
     "metadata": {},
     "output_type": "execute_result"
    }
   ],
   "source": [
    "# Number of unique turnstiles\n",
    "len(mta.turnstile_id.unique())"
   ]
  },
  {
   "cell_type": "code",
   "execution_count": 12,
   "metadata": {},
   "outputs": [
    {
     "data": {
      "text/plain": [
       "378"
      ]
     },
     "execution_count": 12,
     "metadata": {},
     "output_type": "execute_result"
    }
   ],
   "source": [
    "# Number of staions\n",
    "len(mta.station.unique())"
   ]
  },
  {
   "cell_type": "code",
   "execution_count": 13,
   "metadata": {},
   "outputs": [
    {
     "data": {
      "text/plain": [
       "31054"
      ]
     },
     "execution_count": 13,
     "metadata": {},
     "output_type": "execute_result"
    }
   ],
   "source": [
    "# Number of unique time points per day\n",
    "len(mta.time.unique())"
   ]
  },
  {
   "cell_type": "code",
   "execution_count": 14,
   "metadata": {},
   "outputs": [
    {
     "data": {
      "text/html": [
       "<div>\n",
       "<style scoped>\n",
       "    .dataframe tbody tr th:only-of-type {\n",
       "        vertical-align: middle;\n",
       "    }\n",
       "\n",
       "    .dataframe tbody tr th {\n",
       "        vertical-align: top;\n",
       "    }\n",
       "\n",
       "    .dataframe thead th {\n",
       "        text-align: right;\n",
       "    }\n",
       "</style>\n",
       "<table border=\"1\" class=\"dataframe\">\n",
       "  <thead>\n",
       "    <tr style=\"text-align: right;\">\n",
       "      <th></th>\n",
       "      <th>c_a</th>\n",
       "      <th>unit</th>\n",
       "      <th>scp</th>\n",
       "      <th>station</th>\n",
       "      <th>linename</th>\n",
       "      <th>devision</th>\n",
       "      <th>date</th>\n",
       "      <th>time</th>\n",
       "      <th>desc</th>\n",
       "      <th>entries</th>\n",
       "      <th>exits</th>\n",
       "      <th>turnstile_id</th>\n",
       "      <th>Datetime</th>\n",
       "      <th>Date</th>\n",
       "    </tr>\n",
       "  </thead>\n",
       "  <tbody>\n",
       "    <tr>\n",
       "      <td>0</td>\n",
       "      <td>A002</td>\n",
       "      <td>R051</td>\n",
       "      <td>02-00-00</td>\n",
       "      <td>59 ST</td>\n",
       "      <td>NQR456W</td>\n",
       "      <td>BMT</td>\n",
       "      <td>04/27/2019</td>\n",
       "      <td>00:00:00</td>\n",
       "      <td>REGULAR</td>\n",
       "      <td>7035249</td>\n",
       "      <td>2384833</td>\n",
       "      <td>A002, R051, 02-00-00, 59 ST</td>\n",
       "      <td>2019-04-27 00:00:00</td>\n",
       "      <td>2019-04-27</td>\n",
       "    </tr>\n",
       "    <tr>\n",
       "      <td>1</td>\n",
       "      <td>A002</td>\n",
       "      <td>R051</td>\n",
       "      <td>02-00-00</td>\n",
       "      <td>59 ST</td>\n",
       "      <td>NQR456W</td>\n",
       "      <td>BMT</td>\n",
       "      <td>04/27/2019</td>\n",
       "      <td>04:00:00</td>\n",
       "      <td>REGULAR</td>\n",
       "      <td>7035269</td>\n",
       "      <td>2384840</td>\n",
       "      <td>A002, R051, 02-00-00, 59 ST</td>\n",
       "      <td>2019-04-27 04:00:00</td>\n",
       "      <td>2019-04-27</td>\n",
       "    </tr>\n",
       "    <tr>\n",
       "      <td>2</td>\n",
       "      <td>A002</td>\n",
       "      <td>R051</td>\n",
       "      <td>02-00-00</td>\n",
       "      <td>59 ST</td>\n",
       "      <td>NQR456W</td>\n",
       "      <td>BMT</td>\n",
       "      <td>04/27/2019</td>\n",
       "      <td>08:00:00</td>\n",
       "      <td>REGULAR</td>\n",
       "      <td>7035292</td>\n",
       "      <td>2384875</td>\n",
       "      <td>A002, R051, 02-00-00, 59 ST</td>\n",
       "      <td>2019-04-27 08:00:00</td>\n",
       "      <td>2019-04-27</td>\n",
       "    </tr>\n",
       "    <tr>\n",
       "      <td>3</td>\n",
       "      <td>A002</td>\n",
       "      <td>R051</td>\n",
       "      <td>02-00-00</td>\n",
       "      <td>59 ST</td>\n",
       "      <td>NQR456W</td>\n",
       "      <td>BMT</td>\n",
       "      <td>04/27/2019</td>\n",
       "      <td>12:00:00</td>\n",
       "      <td>REGULAR</td>\n",
       "      <td>7035392</td>\n",
       "      <td>2384951</td>\n",
       "      <td>A002, R051, 02-00-00, 59 ST</td>\n",
       "      <td>2019-04-27 12:00:00</td>\n",
       "      <td>2019-04-27</td>\n",
       "    </tr>\n",
       "    <tr>\n",
       "      <td>4</td>\n",
       "      <td>A002</td>\n",
       "      <td>R051</td>\n",
       "      <td>02-00-00</td>\n",
       "      <td>59 ST</td>\n",
       "      <td>NQR456W</td>\n",
       "      <td>BMT</td>\n",
       "      <td>04/27/2019</td>\n",
       "      <td>16:00:00</td>\n",
       "      <td>REGULAR</td>\n",
       "      <td>7035651</td>\n",
       "      <td>2385020</td>\n",
       "      <td>A002, R051, 02-00-00, 59 ST</td>\n",
       "      <td>2019-04-27 16:00:00</td>\n",
       "      <td>2019-04-27</td>\n",
       "    </tr>\n",
       "  </tbody>\n",
       "</table>\n",
       "</div>"
      ],
      "text/plain": [
       "    c_a  unit       scp station linename devision        date      time  \\\n",
       "0  A002  R051  02-00-00   59 ST  NQR456W      BMT  04/27/2019  00:00:00   \n",
       "1  A002  R051  02-00-00   59 ST  NQR456W      BMT  04/27/2019  04:00:00   \n",
       "2  A002  R051  02-00-00   59 ST  NQR456W      BMT  04/27/2019  08:00:00   \n",
       "3  A002  R051  02-00-00   59 ST  NQR456W      BMT  04/27/2019  12:00:00   \n",
       "4  A002  R051  02-00-00   59 ST  NQR456W      BMT  04/27/2019  16:00:00   \n",
       "\n",
       "      desc  entries    exits                 turnstile_id            Datetime  \\\n",
       "0  REGULAR  7035249  2384833  A002, R051, 02-00-00, 59 ST 2019-04-27 00:00:00   \n",
       "1  REGULAR  7035269  2384840  A002, R051, 02-00-00, 59 ST 2019-04-27 04:00:00   \n",
       "2  REGULAR  7035292  2384875  A002, R051, 02-00-00, 59 ST 2019-04-27 08:00:00   \n",
       "3  REGULAR  7035392  2384951  A002, R051, 02-00-00, 59 ST 2019-04-27 12:00:00   \n",
       "4  REGULAR  7035651  2385020  A002, R051, 02-00-00, 59 ST 2019-04-27 16:00:00   \n",
       "\n",
       "        Date  \n",
       "0 2019-04-27  \n",
       "1 2019-04-27  \n",
       "2 2019-04-27  \n",
       "3 2019-04-27  \n",
       "4 2019-04-27  "
      ]
     },
     "execution_count": 14,
     "metadata": {},
     "output_type": "execute_result"
    }
   ],
   "source": [
    "# Sort to make sure date is in order (probably do not need it)\n",
    "mta.sort_values(['turnstile_id', 'Date'])\n",
    "mta.head()"
   ]
  },
  {
   "cell_type": "code",
   "execution_count": 15,
   "metadata": {},
   "outputs": [],
   "source": [
    "# Get minimum reading for each turnstile per day\n",
    "mta_min = mta.groupby(['turnstile_id', 'Date'])['entries', 'exits', 'station'].min().reset_index()"
   ]
  },
  {
   "cell_type": "code",
   "execution_count": 16,
   "metadata": {},
   "outputs": [],
   "source": [
    "# Calculating entries and exits per day by subtracting min entries for given day from the next day. \n",
    "# Last day values are not calculated due to \"the lack of the next day value\".\n",
    "mta_daily = mta_min.copy()\n",
    "mta_daily['entries_daily'] = mta_daily.groupby(['turnstile_id'])['entries'].diff()\n",
    "mta_daily['exits_daily'] = mta_daily.groupby(['turnstile_id'])['exits'].diff()"
   ]
  },
  {
   "cell_type": "code",
   "execution_count": 17,
   "metadata": {},
   "outputs": [],
   "source": [
    "# Fixing the `entries_daily` and `exits_daily`. Shifting up one row\n",
    "mta_daily['entries_daily'] = mta_daily['entries_daily'].shift(-1)\n",
    "mta_daily['exits_daily'] = mta_daily['exits_daily'].shift(-1)"
   ]
  },
  {
   "cell_type": "code",
   "execution_count": 18,
   "metadata": {},
   "outputs": [
    {
     "data": {
      "text/plain": [
       "<matplotlib.axes._subplots.AxesSubplot at 0x1a267717d0>"
      ]
     },
     "execution_count": 18,
     "metadata": {},
     "output_type": "execute_result"
    },
    {
     "data": {
      "image/png": "[encoded data removed]",
      "text/plain": [
       "<Figure size 432x288 with 1 Axes>"
      ]
     },
     "metadata": {
      "needs_background": "light"
     },
     "output_type": "display_data"
    }
   ],
   "source": [
    "# /////\n",
    "plt.yscale('log')\n",
    "sns.boxplot(x='Date', y='entries_daily', data=mta_daily)"
   ]
  },
  {
   "cell_type": "code",
   "execution_count": 19,
   "metadata": {},
   "outputs": [
    {
     "data": {
      "text/plain": [
       "<matplotlib.axes._subplots.AxesSubplot at 0x1a19bad110>"
      ]
     },
     "execution_count": 19,
     "metadata": {},
     "output_type": "execute_result"
    },
    {
     "data": {
      "image/png": "[encoded data removed]",
      "text/plain": [
       "<Figure size 432x288 with 1 Axes>"
      ]
     },
     "metadata": {
      "needs_background": "light"
     },
     "output_type": "display_data"
    }
   ],
   "source": [
    "# ///////\n",
    "sns.boxplot(x='Date', y='entries_daily', data=mta_daily)"
   ]
  },
  {
   "cell_type": "code",
   "execution_count": 20,
   "metadata": {},
   "outputs": [
    {
     "data": {
      "text/plain": [
       "<matplotlib.axes._subplots.AxesSubplot at 0x1a1ae7a5d0>"
      ]
     },
     "execution_count": 20,
     "metadata": {},
     "output_type": "execute_result"
    },
    {
     "data": {
      "image/png": "[encoded data removed]",
      "text/plain": [
       "<Figure size 432x288 with 1 Axes>"
      ]
     },
     "metadata": {
      "needs_background": "light"
     },
     "output_type": "display_data"
    }
   ],
   "source": [
    "mta_daily.entries_daily.plot()"
   ]
  },
  {
   "cell_type": "code",
   "execution_count": 21,
   "metadata": {},
   "outputs": [
    {
     "data": {
      "text/plain": [
       "<matplotlib.axes._subplots.AxesSubplot at 0x1a1ae07250>"
      ]
     },
     "execution_count": 21,
     "metadata": {},
     "output_type": "execute_result"
    },
    {
     "data": {
      "image/png": "[encoded data removed]",
      "text/plain": [
       "<Figure size 432x288 with 1 Axes>"
      ]
     },
     "metadata": {
      "needs_background": "light"
     },
     "output_type": "display_data"
    }
   ],
   "source": [
    " mta_daily.exits_daily.plot()"
   ]
  },
  {
   "cell_type": "code",
   "execution_count": 22,
   "metadata": {},
   "outputs": [
    {
     "data": {
      "text/plain": [
       "2055526072.0"
      ]
     },
     "execution_count": 22,
     "metadata": {},
     "output_type": "execute_result"
    }
   ],
   "source": [
    "# MTA daily number of passenger per station per day should not be more than ~200,000 (published info). \n",
    "# Note, we are looking at individual turnstiles, not stations yet - assume the daily max value to be below 20,000.\n",
    "mta_daily.entries_daily.max()"
   ]
  },
  {
   "cell_type": "code",
   "execution_count": 23,
   "metadata": {},
   "outputs": [
    {
     "data": {
      "text/plain": [
       "1078346406.0"
      ]
     },
     "execution_count": 23,
     "metadata": {},
     "output_type": "execute_result"
    }
   ],
   "source": [
    "mta_daily.exits_daily.max()"
   ]
  },
  {
   "cell_type": "code",
   "execution_count": 24,
   "metadata": {},
   "outputs": [
    {
     "data": {
      "text/html": [
       "<div>\n",
       "<style scoped>\n",
       "    .dataframe tbody tr th:only-of-type {\n",
       "        vertical-align: middle;\n",
       "    }\n",
       "\n",
       "    .dataframe tbody tr th {\n",
       "        vertical-align: top;\n",
       "    }\n",
       "\n",
       "    .dataframe thead th {\n",
       "        text-align: right;\n",
       "    }\n",
       "</style>\n",
       "<table border=\"1\" class=\"dataframe\">\n",
       "  <thead>\n",
       "    <tr style=\"text-align: right;\">\n",
       "      <th></th>\n",
       "      <th>turnstile_id</th>\n",
       "      <th>Date</th>\n",
       "      <th>entries</th>\n",
       "      <th>exits</th>\n",
       "      <th>station</th>\n",
       "      <th>entries_daily</th>\n",
       "      <th>exits_daily</th>\n",
       "    </tr>\n",
       "  </thead>\n",
       "  <tbody>\n",
       "    <tr>\n",
       "      <td>3805</td>\n",
       "      <td>A038, R085, 00-06-00, 8 ST-NYU</td>\n",
       "      <td>2019-04-28</td>\n",
       "      <td>299330</td>\n",
       "      <td>58</td>\n",
       "      <td>8 ST-NYU</td>\n",
       "      <td>164073.0</td>\n",
       "      <td>121.0</td>\n",
       "    </tr>\n",
       "    <tr>\n",
       "      <td>26697</td>\n",
       "      <td>JFK03, R536, 00-00-04, JFK JAMAICA CT1</td>\n",
       "      <td>2019-05-11</td>\n",
       "      <td>9341</td>\n",
       "      <td>5171</td>\n",
       "      <td>JFK JAMAICA CT1</td>\n",
       "      <td>74048.0</td>\n",
       "      <td>466740.0</td>\n",
       "    </tr>\n",
       "    <tr>\n",
       "      <td>29116</td>\n",
       "      <td>N013, R035, 02-05-00, 168 ST</td>\n",
       "      <td>2019-05-08</td>\n",
       "      <td>5064</td>\n",
       "      <td>0</td>\n",
       "      <td>168 ST</td>\n",
       "      <td>453690.0</td>\n",
       "      <td>0.0</td>\n",
       "    </tr>\n",
       "    <tr>\n",
       "      <td>32804</td>\n",
       "      <td>N056, R188, 01-00-01, 50 ST</td>\n",
       "      <td>2019-05-07</td>\n",
       "      <td>3422305</td>\n",
       "      <td>2643003</td>\n",
       "      <td>50 ST</td>\n",
       "      <td>331670366.0</td>\n",
       "      <td>332449101.0</td>\n",
       "    </tr>\n",
       "    <tr>\n",
       "      <td>36415</td>\n",
       "      <td>N076, R111, 00-06-01, 23 ST</td>\n",
       "      <td>2019-05-06</td>\n",
       "      <td>131075</td>\n",
       "      <td>65543</td>\n",
       "      <td>23 ST</td>\n",
       "      <td>2091931.0</td>\n",
       "      <td>1867552.0</td>\n",
       "    </tr>\n",
       "  </tbody>\n",
       "</table>\n",
       "</div>"
      ],
      "text/plain": [
       "                                 turnstile_id       Date  entries    exits  \\\n",
       "3805           A038, R085, 00-06-00, 8 ST-NYU 2019-04-28   299330       58   \n",
       "26697  JFK03, R536, 00-00-04, JFK JAMAICA CT1 2019-05-11     9341     5171   \n",
       "29116            N013, R035, 02-05-00, 168 ST 2019-05-08     5064        0   \n",
       "32804             N056, R188, 01-00-01, 50 ST 2019-05-07  3422305  2643003   \n",
       "36415             N076, R111, 00-06-01, 23 ST 2019-05-06   131075    65543   \n",
       "\n",
       "               station  entries_daily  exits_daily  \n",
       "3805          8 ST-NYU       164073.0        121.0  \n",
       "26697  JFK JAMAICA CT1        74048.0     466740.0  \n",
       "29116           168 ST       453690.0          0.0  \n",
       "32804            50 ST    331670366.0  332449101.0  \n",
       "36415            23 ST      2091931.0    1867552.0  "
      ]
     },
     "execution_count": 24,
     "metadata": {},
     "output_type": "execute_result"
    }
   ],
   "source": [
    "# Entry values >= 20,000\n",
    "mta_daily.loc[mta_daily['entries_daily']>=20000].head()"
   ]
  },
  {
   "cell_type": "code",
   "execution_count": 25,
   "metadata": {},
   "outputs": [
    {
     "data": {
      "text/html": [
       "<div>\n",
       "<style scoped>\n",
       "    .dataframe tbody tr th:only-of-type {\n",
       "        vertical-align: middle;\n",
       "    }\n",
       "\n",
       "    .dataframe tbody tr th {\n",
       "        vertical-align: top;\n",
       "    }\n",
       "\n",
       "    .dataframe thead th {\n",
       "        text-align: right;\n",
       "    }\n",
       "</style>\n",
       "<table border=\"1\" class=\"dataframe\">\n",
       "  <thead>\n",
       "    <tr style=\"text-align: right;\">\n",
       "      <th></th>\n",
       "      <th>turnstile_id</th>\n",
       "      <th>Date</th>\n",
       "      <th>entries</th>\n",
       "      <th>exits</th>\n",
       "      <th>station</th>\n",
       "      <th>entries_daily</th>\n",
       "      <th>exits_daily</th>\n",
       "    </tr>\n",
       "  </thead>\n",
       "  <tbody>\n",
       "    <tr>\n",
       "      <td>26697</td>\n",
       "      <td>JFK03, R536, 00-00-04, JFK JAMAICA CT1</td>\n",
       "      <td>2019-05-11</td>\n",
       "      <td>9341</td>\n",
       "      <td>5171</td>\n",
       "      <td>JFK JAMAICA CT1</td>\n",
       "      <td>74048.0</td>\n",
       "      <td>466740.0</td>\n",
       "    </tr>\n",
       "    <tr>\n",
       "      <td>32804</td>\n",
       "      <td>N056, R188, 01-00-01, 50 ST</td>\n",
       "      <td>2019-05-07</td>\n",
       "      <td>3422305</td>\n",
       "      <td>2643003</td>\n",
       "      <td>50 ST</td>\n",
       "      <td>331670366.0</td>\n",
       "      <td>332449101.0</td>\n",
       "    </tr>\n",
       "    <tr>\n",
       "      <td>36415</td>\n",
       "      <td>N076, R111, 00-06-01, 23 ST</td>\n",
       "      <td>2019-05-06</td>\n",
       "      <td>131075</td>\n",
       "      <td>65543</td>\n",
       "      <td>23 ST</td>\n",
       "      <td>2091931.0</td>\n",
       "      <td>1867552.0</td>\n",
       "    </tr>\n",
       "    <tr>\n",
       "      <td>49450</td>\n",
       "      <td>N221, R155, 00-00-02, KINGSBRIDGE RD</td>\n",
       "      <td>2019-05-07</td>\n",
       "      <td>746094</td>\n",
       "      <td>71764</td>\n",
       "      <td>KINGSBRIDGE RD</td>\n",
       "      <td>183862023.0</td>\n",
       "      <td>16714186.0</td>\n",
       "    </tr>\n",
       "    <tr>\n",
       "      <td>64898</td>\n",
       "      <td>N508, R453, 00-00-00, 23 ST</td>\n",
       "      <td>2019-04-29</td>\n",
       "      <td>238093041</td>\n",
       "      <td>458034675</td>\n",
       "      <td>23 ST</td>\n",
       "      <td>18891.0</td>\n",
       "      <td>41201.0</td>\n",
       "    </tr>\n",
       "  </tbody>\n",
       "</table>\n",
       "</div>"
      ],
      "text/plain": [
       "                                 turnstile_id       Date    entries  \\\n",
       "26697  JFK03, R536, 00-00-04, JFK JAMAICA CT1 2019-05-11       9341   \n",
       "32804             N056, R188, 01-00-01, 50 ST 2019-05-07    3422305   \n",
       "36415             N076, R111, 00-06-01, 23 ST 2019-05-06     131075   \n",
       "49450    N221, R155, 00-00-02, KINGSBRIDGE RD 2019-05-07     746094   \n",
       "64898             N508, R453, 00-00-00, 23 ST 2019-04-29  238093041   \n",
       "\n",
       "           exits          station  entries_daily  exits_daily  \n",
       "26697       5171  JFK JAMAICA CT1        74048.0     466740.0  \n",
       "32804    2643003            50 ST    331670366.0  332449101.0  \n",
       "36415      65543            23 ST      2091931.0    1867552.0  \n",
       "49450      71764   KINGSBRIDGE RD    183862023.0   16714186.0  \n",
       "64898  458034675            23 ST        18891.0      41201.0  "
      ]
     },
     "execution_count": 25,
     "metadata": {},
     "output_type": "execute_result"
    }
   ],
   "source": [
    "# Exit values >= 20,000\n",
    "mta_daily.loc[mta_daily['exits_daily']>=20000].head()"
   ]
  },
  {
   "cell_type": "code",
   "execution_count": 26,
   "metadata": {},
   "outputs": [
    {
     "data": {
      "text/html": [
       "<div>\n",
       "<style scoped>\n",
       "    .dataframe tbody tr th:only-of-type {\n",
       "        vertical-align: middle;\n",
       "    }\n",
       "\n",
       "    .dataframe tbody tr th {\n",
       "        vertical-align: top;\n",
       "    }\n",
       "\n",
       "    .dataframe thead th {\n",
       "        text-align: right;\n",
       "    }\n",
       "</style>\n",
       "<table border=\"1\" class=\"dataframe\">\n",
       "  <thead>\n",
       "    <tr style=\"text-align: right;\">\n",
       "      <th></th>\n",
       "      <th>turnstile_id</th>\n",
       "      <th>Date</th>\n",
       "      <th>entries</th>\n",
       "      <th>exits</th>\n",
       "      <th>station</th>\n",
       "      <th>entries_daily</th>\n",
       "      <th>exits_daily</th>\n",
       "    </tr>\n",
       "  </thead>\n",
       "  <tbody>\n",
       "    <tr>\n",
       "      <td>2152</td>\n",
       "      <td>A025, R023, 01-03-01, 34 ST-HERALD SQ</td>\n",
       "      <td>2019-04-27</td>\n",
       "      <td>1238468553</td>\n",
       "      <td>1813265330</td>\n",
       "      <td>34 ST-HERALD SQ</td>\n",
       "      <td>-2299.0</td>\n",
       "      <td>1332.0</td>\n",
       "    </tr>\n",
       "    <tr>\n",
       "      <td>2153</td>\n",
       "      <td>A025, R023, 01-03-01, 34 ST-HERALD SQ</td>\n",
       "      <td>2019-04-28</td>\n",
       "      <td>1238466254</td>\n",
       "      <td>1813266662</td>\n",
       "      <td>34 ST-HERALD SQ</td>\n",
       "      <td>-3573.0</td>\n",
       "      <td>946.0</td>\n",
       "    </tr>\n",
       "    <tr>\n",
       "      <td>2154</td>\n",
       "      <td>A025, R023, 01-03-01, 34 ST-HERALD SQ</td>\n",
       "      <td>2019-04-29</td>\n",
       "      <td>1238462681</td>\n",
       "      <td>1813267608</td>\n",
       "      <td>34 ST-HERALD SQ</td>\n",
       "      <td>-3872.0</td>\n",
       "      <td>1778.0</td>\n",
       "    </tr>\n",
       "    <tr>\n",
       "      <td>2155</td>\n",
       "      <td>A025, R023, 01-03-01, 34 ST-HERALD SQ</td>\n",
       "      <td>2019-04-30</td>\n",
       "      <td>1238458809</td>\n",
       "      <td>1813269386</td>\n",
       "      <td>34 ST-HERALD SQ</td>\n",
       "      <td>-4181.0</td>\n",
       "      <td>1769.0</td>\n",
       "    </tr>\n",
       "    <tr>\n",
       "      <td>2156</td>\n",
       "      <td>A025, R023, 01-03-01, 34 ST-HERALD SQ</td>\n",
       "      <td>2019-05-01</td>\n",
       "      <td>1238454628</td>\n",
       "      <td>1813271155</td>\n",
       "      <td>34 ST-HERALD SQ</td>\n",
       "      <td>-4047.0</td>\n",
       "      <td>1926.0</td>\n",
       "    </tr>\n",
       "  </tbody>\n",
       "</table>\n",
       "</div>"
      ],
      "text/plain": [
       "                               turnstile_id       Date     entries  \\\n",
       "2152  A025, R023, 01-03-01, 34 ST-HERALD SQ 2019-04-27  1238468553   \n",
       "2153  A025, R023, 01-03-01, 34 ST-HERALD SQ 2019-04-28  1238466254   \n",
       "2154  A025, R023, 01-03-01, 34 ST-HERALD SQ 2019-04-29  1238462681   \n",
       "2155  A025, R023, 01-03-01, 34 ST-HERALD SQ 2019-04-30  1238458809   \n",
       "2156  A025, R023, 01-03-01, 34 ST-HERALD SQ 2019-05-01  1238454628   \n",
       "\n",
       "           exits          station  entries_daily  exits_daily  \n",
       "2152  1813265330  34 ST-HERALD SQ        -2299.0       1332.0  \n",
       "2153  1813266662  34 ST-HERALD SQ        -3573.0        946.0  \n",
       "2154  1813267608  34 ST-HERALD SQ        -3872.0       1778.0  \n",
       "2155  1813269386  34 ST-HERALD SQ        -4181.0       1769.0  \n",
       "2156  1813271155  34 ST-HERALD SQ        -4047.0       1926.0  "
      ]
     },
     "execution_count": 26,
     "metadata": {},
     "output_type": "execute_result"
    }
   ],
   "source": [
    "# Entry values < 0\n",
    "mta_daily.loc[mta_daily['entries_daily']<0].head()\n",
    "# Daily entries should not be negative. Need to get back to this to understand why."
   ]
  },
  {
   "cell_type": "code",
   "execution_count": 27,
   "metadata": {},
   "outputs": [
    {
     "data": {
      "text/html": [
       "<div>\n",
       "<style scoped>\n",
       "    .dataframe tbody tr th:only-of-type {\n",
       "        vertical-align: middle;\n",
       "    }\n",
       "\n",
       "    .dataframe tbody tr th {\n",
       "        vertical-align: top;\n",
       "    }\n",
       "\n",
       "    .dataframe thead th {\n",
       "        text-align: right;\n",
       "    }\n",
       "</style>\n",
       "<table border=\"1\" class=\"dataframe\">\n",
       "  <thead>\n",
       "    <tr style=\"text-align: right;\">\n",
       "      <th></th>\n",
       "      <th>turnstile_id</th>\n",
       "      <th>Date</th>\n",
       "      <th>entries</th>\n",
       "      <th>exits</th>\n",
       "      <th>station</th>\n",
       "      <th>entries_daily</th>\n",
       "      <th>exits_daily</th>\n",
       "    </tr>\n",
       "  </thead>\n",
       "  <tbody>\n",
       "    <tr>\n",
       "      <td>3804</td>\n",
       "      <td>A038, R085, 00-06-00, 8 ST-NYU</td>\n",
       "      <td>2019-04-27</td>\n",
       "      <td>292602</td>\n",
       "      <td>23454</td>\n",
       "      <td>8 ST-NYU</td>\n",
       "      <td>6728.0</td>\n",
       "      <td>-23396.0</td>\n",
       "    </tr>\n",
       "    <tr>\n",
       "      <td>4672</td>\n",
       "      <td>A046, R463, 00-00-03, CANAL ST</td>\n",
       "      <td>2019-04-27</td>\n",
       "      <td>126021</td>\n",
       "      <td>10181</td>\n",
       "      <td>CANAL ST</td>\n",
       "      <td>-125997.0</td>\n",
       "      <td>-10177.0</td>\n",
       "    </tr>\n",
       "    <tr>\n",
       "      <td>7724</td>\n",
       "      <td>A069, R044, 01-06-01, CHAMBERS ST</td>\n",
       "      <td>2019-04-27</td>\n",
       "      <td>744282975</td>\n",
       "      <td>1799923493</td>\n",
       "      <td>CHAMBERS ST</td>\n",
       "      <td>142.0</td>\n",
       "      <td>-2110.0</td>\n",
       "    </tr>\n",
       "    <tr>\n",
       "      <td>7725</td>\n",
       "      <td>A069, R044, 01-06-01, CHAMBERS ST</td>\n",
       "      <td>2019-04-28</td>\n",
       "      <td>744283117</td>\n",
       "      <td>1799921383</td>\n",
       "      <td>CHAMBERS ST</td>\n",
       "      <td>273.0</td>\n",
       "      <td>-4470.0</td>\n",
       "    </tr>\n",
       "    <tr>\n",
       "      <td>7726</td>\n",
       "      <td>A069, R044, 01-06-01, CHAMBERS ST</td>\n",
       "      <td>2019-04-29</td>\n",
       "      <td>744283390</td>\n",
       "      <td>1799916913</td>\n",
       "      <td>CHAMBERS ST</td>\n",
       "      <td>526.0</td>\n",
       "      <td>-6331.0</td>\n",
       "    </tr>\n",
       "  </tbody>\n",
       "</table>\n",
       "</div>"
      ],
      "text/plain": [
       "                           turnstile_id       Date    entries       exits  \\\n",
       "3804     A038, R085, 00-06-00, 8 ST-NYU 2019-04-27     292602       23454   \n",
       "4672     A046, R463, 00-00-03, CANAL ST 2019-04-27     126021       10181   \n",
       "7724  A069, R044, 01-06-01, CHAMBERS ST 2019-04-27  744282975  1799923493   \n",
       "7725  A069, R044, 01-06-01, CHAMBERS ST 2019-04-28  744283117  1799921383   \n",
       "7726  A069, R044, 01-06-01, CHAMBERS ST 2019-04-29  744283390  1799916913   \n",
       "\n",
       "          station  entries_daily  exits_daily  \n",
       "3804     8 ST-NYU         6728.0     -23396.0  \n",
       "4672     CANAL ST      -125997.0     -10177.0  \n",
       "7724  CHAMBERS ST          142.0      -2110.0  \n",
       "7725  CHAMBERS ST          273.0      -4470.0  \n",
       "7726  CHAMBERS ST          526.0      -6331.0  "
      ]
     },
     "execution_count": 27,
     "metadata": {},
     "output_type": "execute_result"
    }
   ],
   "source": [
    "# Exits values < 0\n",
    "mta_daily.loc[mta_daily['exits_daily']<0].head()\n",
    "# Daily exits should not be negative. Need to get back to this to understand why."
   ]
  },
  {
   "cell_type": "code",
   "execution_count": 28,
   "metadata": {},
   "outputs": [],
   "source": [
    "# Remove the daily enatries and exits that do not make sence (> 20,000 and < 0)\n",
    "mta_daily_clean = mta_daily.copy()\n",
    "\n",
    "mta_daily_clean.loc[mta_daily_clean['entries_daily'] >= 20000,'entries_daily'] = np.nan\n",
    "mta_daily_clean.loc[mta_daily_clean['entries_daily'] < 0,'entries_daily'] = np.nan\n",
    "\n",
    "mta_daily_clean.loc[mta_daily_clean['exits_daily'] >= 20000,'exits_daily'] = np.nan\n",
    "mta_daily_clean.loc[mta_daily_clean['exits_daily'] < 0,'exits_daily'] = np.nan"
   ]
  },
  {
   "cell_type": "code",
   "execution_count": 29,
   "metadata": {},
   "outputs": [],
   "source": [
    "# Daily entries and exits by stations\n",
    "station_daily = mta_daily_clean.groupby(['station', 'Date'])['entries_daily', 'exits_daily'].sum().reset_index()\n",
    "station_daily['traffic'] = station_daily['entries_daily'] + station_daily['exits_daily']"
   ]
  },
  {
   "cell_type": "code",
   "execution_count": 30,
   "metadata": {},
   "outputs": [
    {
     "data": {
      "text/html": [
       "<div>\n",
       "<style scoped>\n",
       "    .dataframe tbody tr th:only-of-type {\n",
       "        vertical-align: middle;\n",
       "    }\n",
       "\n",
       "    .dataframe tbody tr th {\n",
       "        vertical-align: top;\n",
       "    }\n",
       "\n",
       "    .dataframe thead th {\n",
       "        text-align: right;\n",
       "    }\n",
       "</style>\n",
       "<table border=\"1\" class=\"dataframe\">\n",
       "  <thead>\n",
       "    <tr style=\"text-align: right;\">\n",
       "      <th></th>\n",
       "      <th>station</th>\n",
       "      <th>Date</th>\n",
       "      <th>entries_daily</th>\n",
       "      <th>exits_daily</th>\n",
       "      <th>traffic</th>\n",
       "    </tr>\n",
       "  </thead>\n",
       "  <tbody>\n",
       "    <tr>\n",
       "      <td>0</td>\n",
       "      <td>1 AV</td>\n",
       "      <td>2019-04-27</td>\n",
       "      <td>6338.0</td>\n",
       "      <td>9067.0</td>\n",
       "      <td>15405.0</td>\n",
       "    </tr>\n",
       "    <tr>\n",
       "      <td>1</td>\n",
       "      <td>1 AV</td>\n",
       "      <td>2019-04-28</td>\n",
       "      <td>4555.0</td>\n",
       "      <td>6428.0</td>\n",
       "      <td>10983.0</td>\n",
       "    </tr>\n",
       "    <tr>\n",
       "      <td>2</td>\n",
       "      <td>1 AV</td>\n",
       "      <td>2019-04-29</td>\n",
       "      <td>18018.0</td>\n",
       "      <td>20164.0</td>\n",
       "      <td>38182.0</td>\n",
       "    </tr>\n",
       "    <tr>\n",
       "      <td>3</td>\n",
       "      <td>1 AV</td>\n",
       "      <td>2019-04-30</td>\n",
       "      <td>18923.0</td>\n",
       "      <td>20459.0</td>\n",
       "      <td>39382.0</td>\n",
       "    </tr>\n",
       "    <tr>\n",
       "      <td>4</td>\n",
       "      <td>1 AV</td>\n",
       "      <td>2019-05-01</td>\n",
       "      <td>19226.0</td>\n",
       "      <td>21574.0</td>\n",
       "      <td>40800.0</td>\n",
       "    </tr>\n",
       "  </tbody>\n",
       "</table>\n",
       "</div>"
      ],
      "text/plain": [
       "  station       Date  entries_daily  exits_daily  traffic\n",
       "0    1 AV 2019-04-27         6338.0       9067.0  15405.0\n",
       "1    1 AV 2019-04-28         4555.0       6428.0  10983.0\n",
       "2    1 AV 2019-04-29        18018.0      20164.0  38182.0\n",
       "3    1 AV 2019-04-30        18923.0      20459.0  39382.0\n",
       "4    1 AV 2019-05-01        19226.0      21574.0  40800.0"
      ]
     },
     "execution_count": 30,
     "metadata": {},
     "output_type": "execute_result"
    }
   ],
   "source": [
    "station_daily.head()"
   ]
  },
  {
   "cell_type": "code",
   "execution_count": 31,
   "metadata": {},
   "outputs": [],
   "source": [
    "# Sum of entries by stations for May 2019\n",
    "station_total = station_daily.groupby(['station'])['entries_daily', 'exits_daily', 'traffic'].sum().reset_index()"
   ]
  },
  {
   "cell_type": "code",
   "execution_count": 37,
   "metadata": {},
   "outputs": [
    {
     "data": {
      "text/html": [
       "<div>\n",
       "<style scoped>\n",
       "    .dataframe tbody tr th:only-of-type {\n",
       "        vertical-align: middle;\n",
       "    }\n",
       "\n",
       "    .dataframe tbody tr th {\n",
       "        vertical-align: top;\n",
       "    }\n",
       "\n",
       "    .dataframe thead th {\n",
       "        text-align: right;\n",
       "    }\n",
       "</style>\n",
       "<table border=\"1\" class=\"dataframe\">\n",
       "  <thead>\n",
       "    <tr style=\"text-align: right;\">\n",
       "      <th></th>\n",
       "      <th>station</th>\n",
       "      <th>entries_daily</th>\n",
       "      <th>exits_daily</th>\n",
       "      <th>traffic</th>\n",
       "    </tr>\n",
       "  </thead>\n",
       "  <tbody>\n",
       "    <tr>\n",
       "      <td>61</td>\n",
       "      <td>34 ST-PENN STA</td>\n",
       "      <td>4002022.0</td>\n",
       "      <td>3651913.0</td>\n",
       "      <td>7653935.0</td>\n",
       "    </tr>\n",
       "    <tr>\n",
       "      <td>232</td>\n",
       "      <td>GRD CNTRL-42 ST</td>\n",
       "      <td>3450679.0</td>\n",
       "      <td>2983117.0</td>\n",
       "      <td>6433796.0</td>\n",
       "    </tr>\n",
       "    <tr>\n",
       "      <td>59</td>\n",
       "      <td>34 ST-HERALD SQ</td>\n",
       "      <td>2780614.0</td>\n",
       "      <td>2724537.0</td>\n",
       "      <td>5505151.0</td>\n",
       "    </tr>\n",
       "    <tr>\n",
       "      <td>14</td>\n",
       "      <td>14 ST-UNION SQ</td>\n",
       "      <td>2535253.0</td>\n",
       "      <td>2335510.0</td>\n",
       "      <td>4870763.0</td>\n",
       "    </tr>\n",
       "    <tr>\n",
       "      <td>352</td>\n",
       "      <td>TIMES SQ-42 ST</td>\n",
       "      <td>2408098.0</td>\n",
       "      <td>2272374.0</td>\n",
       "      <td>4680472.0</td>\n",
       "    </tr>\n",
       "    <tr>\n",
       "      <td>46</td>\n",
       "      <td>23 ST</td>\n",
       "      <td>2697873.0</td>\n",
       "      <td>1962542.0</td>\n",
       "      <td>4660415.0</td>\n",
       "    </tr>\n",
       "    <tr>\n",
       "      <td>68</td>\n",
       "      <td>42 ST-PORT AUTH</td>\n",
       "      <td>2271729.0</td>\n",
       "      <td>1952661.0</td>\n",
       "      <td>4224390.0</td>\n",
       "    </tr>\n",
       "    <tr>\n",
       "      <td>225</td>\n",
       "      <td>FULTON ST</td>\n",
       "      <td>2266523.0</td>\n",
       "      <td>1901995.0</td>\n",
       "      <td>4168518.0</td>\n",
       "    </tr>\n",
       "    <tr>\n",
       "      <td>110</td>\n",
       "      <td>86 ST</td>\n",
       "      <td>2001485.0</td>\n",
       "      <td>1840529.0</td>\n",
       "      <td>3842014.0</td>\n",
       "    </tr>\n",
       "    <tr>\n",
       "      <td>9</td>\n",
       "      <td>125 ST</td>\n",
       "      <td>1820524.0</td>\n",
       "      <td>1585083.0</td>\n",
       "      <td>3405607.0</td>\n",
       "    </tr>\n",
       "  </tbody>\n",
       "</table>\n",
       "</div>"
      ],
      "text/plain": [
       "             station  entries_daily  exits_daily    traffic\n",
       "61    34 ST-PENN STA      4002022.0    3651913.0  7653935.0\n",
       "232  GRD CNTRL-42 ST      3450679.0    2983117.0  6433796.0\n",
       "59   34 ST-HERALD SQ      2780614.0    2724537.0  5505151.0\n",
       "14    14 ST-UNION SQ      2535253.0    2335510.0  4870763.0\n",
       "352   TIMES SQ-42 ST      2408098.0    2272374.0  4680472.0\n",
       "46             23 ST      2697873.0    1962542.0  4660415.0\n",
       "68   42 ST-PORT AUTH      2271729.0    1952661.0  4224390.0\n",
       "225        FULTON ST      2266523.0    1901995.0  4168518.0\n",
       "110            86 ST      2001485.0    1840529.0  3842014.0\n",
       "9             125 ST      1820524.0    1585083.0  3405607.0"
      ]
     },
     "execution_count": 37,
     "metadata": {},
     "output_type": "execute_result"
    }
   ],
   "source": [
    "# Top 10 staions by total traffic over the entered time period\n",
    "station_total.sort_values(['traffic'], ascending=False).head(10)"
   ]
  },
  {
   "cell_type": "code",
   "execution_count": 33,
   "metadata": {},
   "outputs": [],
   "source": [
    "# Top 10 staions by daily average traffic\n",
    "station_daily_mean = station_daily.groupby(['station'])['Date', 'entries_daily', 'exits_daily', 'traffic'].mean()"
   ]
  },
  {
   "cell_type": "code",
   "execution_count": 34,
   "metadata": {},
   "outputs": [
    {
     "data": {
      "text/html": [
       "<div>\n",
       "<style scoped>\n",
       "    .dataframe tbody tr th:only-of-type {\n",
       "        vertical-align: middle;\n",
       "    }\n",
       "\n",
       "    .dataframe tbody tr th {\n",
       "        vertical-align: top;\n",
       "    }\n",
       "\n",
       "    .dataframe thead th {\n",
       "        text-align: right;\n",
       "    }\n",
       "</style>\n",
       "<table border=\"1\" class=\"dataframe\">\n",
       "  <thead>\n",
       "    <tr style=\"text-align: right;\">\n",
       "      <th></th>\n",
       "      <th>entries_daily</th>\n",
       "      <th>exits_daily</th>\n",
       "      <th>traffic</th>\n",
       "    </tr>\n",
       "    <tr>\n",
       "      <th>station</th>\n",
       "      <th></th>\n",
       "      <th></th>\n",
       "      <th></th>\n",
       "    </tr>\n",
       "  </thead>\n",
       "  <tbody>\n",
       "    <tr>\n",
       "      <td>34 ST-PENN STA</td>\n",
       "      <td>142929.357143</td>\n",
       "      <td>130425.464286</td>\n",
       "      <td>273354.821429</td>\n",
       "    </tr>\n",
       "    <tr>\n",
       "      <td>GRD CNTRL-42 ST</td>\n",
       "      <td>123238.535714</td>\n",
       "      <td>106539.892857</td>\n",
       "      <td>229778.428571</td>\n",
       "    </tr>\n",
       "    <tr>\n",
       "      <td>34 ST-HERALD SQ</td>\n",
       "      <td>99307.642857</td>\n",
       "      <td>97304.892857</td>\n",
       "      <td>196612.535714</td>\n",
       "    </tr>\n",
       "    <tr>\n",
       "      <td>14 ST-UNION SQ</td>\n",
       "      <td>90544.750000</td>\n",
       "      <td>83411.071429</td>\n",
       "      <td>173955.821429</td>\n",
       "    </tr>\n",
       "    <tr>\n",
       "      <td>TIMES SQ-42 ST</td>\n",
       "      <td>86003.500000</td>\n",
       "      <td>81156.214286</td>\n",
       "      <td>167159.714286</td>\n",
       "    </tr>\n",
       "    <tr>\n",
       "      <td>23 ST</td>\n",
       "      <td>96352.607143</td>\n",
       "      <td>70090.785714</td>\n",
       "      <td>166443.392857</td>\n",
       "    </tr>\n",
       "    <tr>\n",
       "      <td>42 ST-PORT AUTH</td>\n",
       "      <td>81133.178571</td>\n",
       "      <td>69737.892857</td>\n",
       "      <td>150871.071429</td>\n",
       "    </tr>\n",
       "    <tr>\n",
       "      <td>FULTON ST</td>\n",
       "      <td>80947.250000</td>\n",
       "      <td>67928.392857</td>\n",
       "      <td>148875.642857</td>\n",
       "    </tr>\n",
       "    <tr>\n",
       "      <td>86 ST</td>\n",
       "      <td>71481.607143</td>\n",
       "      <td>65733.178571</td>\n",
       "      <td>137214.785714</td>\n",
       "    </tr>\n",
       "    <tr>\n",
       "      <td>125 ST</td>\n",
       "      <td>65018.714286</td>\n",
       "      <td>56610.107143</td>\n",
       "      <td>121628.821429</td>\n",
       "    </tr>\n",
       "  </tbody>\n",
       "</table>\n",
       "</div>"
      ],
      "text/plain": [
       "                 entries_daily    exits_daily        traffic\n",
       "station                                                     \n",
       "34 ST-PENN STA   142929.357143  130425.464286  273354.821429\n",
       "GRD CNTRL-42 ST  123238.535714  106539.892857  229778.428571\n",
       "34 ST-HERALD SQ   99307.642857   97304.892857  196612.535714\n",
       "14 ST-UNION SQ    90544.750000   83411.071429  173955.821429\n",
       "TIMES SQ-42 ST    86003.500000   81156.214286  167159.714286\n",
       "23 ST             96352.607143   70090.785714  166443.392857\n",
       "42 ST-PORT AUTH   81133.178571   69737.892857  150871.071429\n",
       "FULTON ST         80947.250000   67928.392857  148875.642857\n",
       "86 ST             71481.607143   65733.178571  137214.785714\n",
       "125 ST            65018.714286   56610.107143  121628.821429"
      ]
     },
     "execution_count": 34,
     "metadata": {},
     "output_type": "execute_result"
    }
   ],
   "source": [
    "station_daily_mean.sort_values(['traffic'], ascending=False).head(10)"
   ]
  },
  {
   "cell_type": "code",
   "execution_count": 35,
   "metadata": {},
   "outputs": [],
   "source": [
    "top_stations = [\n",
    "    '34 ST-PENN STA',\n",
    "    'GRD CNTRL-42 ST',\n",
    "    '34 ST-HERALD SQ',\n",
    "    '14 ST-UNION SQ',\n",
    "    'TIMES SQ-42 ST',\n",
    "    '23 ST',\n",
    "    '42 ST-PORT AUTH',\n",
    "    'FULTON ST', \n",
    "    '86 ST', \n",
    "    '125 ST'\n",
    "]"
   ]
  },
  {
   "cell_type": "code",
   "execution_count": 36,
   "metadata": {},
   "outputs": [],
   "source": [
    "top_station_names = [\n",
    "    '34 Street Penn Station',\n",
    "    'Grand Central Terminal',\n",
    "    '34th Street - Herald Square Station',\n",
    "    '14th Street - Union Square Station',\n",
    "    'Times Square - 42nd Street Station',\n",
    "    '23 Street Station',\n",
    "    '42 Street - Port Authority Station',\n",
    "    'Fulton Street Station',\n",
    "    '86 Street Station',\n",
    "    '125 Street Station'\n",
    "]"
   ]
  },
  {
   "cell_type": "markdown",
   "metadata": {},
   "source": [
    "# Graphs"
   ]
  },
  {
   "cell_type": "code",
   "execution_count": null,
   "metadata": {},
   "outputs": [],
   "source": []
  },
  {
   "cell_type": "code",
   "execution_count": null,
   "metadata": {},
   "outputs": [],
   "source": []
  },
  {
   "cell_type": "code",
   "execution_count": null,
   "metadata": {},
   "outputs": [],
   "source": []
  },
  {
   "cell_type": "code",
   "execution_count": null,
   "metadata": {},
   "outputs": [],
   "source": []
  },
  {
   "cell_type": "code",
   "execution_count": null,
   "metadata": {},
   "outputs": [],
   "source": []
  },
  {
   "cell_type": "code",
   "execution_count": null,
   "metadata": {},
   "outputs": [],
   "source": []
  }
 ],
 "metadata": {
  "kernelspec": {
   "display_name": "metis",
   "language": "python",
   "name": "metis"
  },
  "language_info": {
   "codemirror_mode": {
    "name": "ipython",
    "version": 3
   },
   "file_extension": ".py",
   "mimetype": "text/x-python",
   "name": "python",
   "nbconvert_exporter": "python",
   "pygments_lexer": "ipython3",
   "version": "3.7.4"
  }
 },
 "nbformat": 4,
 "nbformat_minor": 2
}
